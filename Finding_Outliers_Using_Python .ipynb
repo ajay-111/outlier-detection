{
  "nbformat": 4,
  "nbformat_minor": 0,
  "metadata": {
    "colab": {
      "name": "Finding Outliers Using Python.ipynb",
      "provenance": [],
      "collapsed_sections": []
    },
    "kernelspec": {
      "name": "python3",
      "display_name": "Python 3"
    },
    "language_info": {
      "name": "python"
    }
  },
  "cells": [
    {
      "cell_type": "markdown",
      "source": [
        "![outlier.PNG](data:image/png;base64,iVBORw0KGgoAAAANSUhEUgAAAhIAAAGjCAYAAAB5Q/zyAAAAAXNSR0IArs4c6QAAAARnQU1BAACxjwv8YQUAAAAJcEhZcwAAEnQAABJ0Ad5mH3gAADWjSURBVHhe7d2N0aMgEIDhq8uCrOerJs2kmBwI6IILIvE/7zOzM/cZRSQIGzW5fx8AAIBGJBIAAKAZiQQAAGhGIgEAAJqRSAAAgGYkEgAAoBmJBAAAaEYiAQAAmpFIAACAZiQS2NW/f/8IgjgggLPQ+7ArbcAjCGL7AM5C78OutAGPIIjtAzgLvQ+70gY8giC2D+As9D7sShvwCILYPoCz0PuwKwY8YHucV7gSeh92xYAHbI/zCldC78OuGPCA7XFe4UrofdgVAx6wPc4rXAm9D7tiwAO2x3mFK6H3YVcMeMD2OK9wJfQ+7IoBD9ge5xWuhN6HXTHgAdvjvMKV0PuwKwY8YHucV7gSeh92xYAHbI/zCldC78OuGPCA7XFe4UrofdgVAx6wPc4rXAm9D7tiwAO2x3mFK6H3YVcMeA3ef58utFf393m7hZ+/LrRh9/lzC3/Yb7dHOJdkAGeh92FXVxrw3n/dVI9xgg7kxPTv0505M9UmEnK9R06mpWThF9tj4o4xDuAs9D7s6koDHonE3ZBI5LhjjAM4C70Pu7rSgPe4ROLxViYSP8QddxzAWeh92NWVBrzWROL913+6Tmw7RGeW9Z/XOy7l1U/r9K/352W3FdvYZan3K1mnF38XEwl9Mm2qQ7SOCXm8s7ZSvF+fPmkj1z7+dS+um19omTYYtx1eMOWFv2dhyl3RHgNTv7/evGeyHFPfuC3iPmCrMb03dp9unbg9bZhy+7/Zse5p2vcUwFnofdjVlQa81kRCTn5ayAlxaV0bcv2oTlp8mUjkYlWdlxIJmQQoISfrUxKJ6JbHPKb3Ou4DcaT7nEd0PDvT9g+chd6HXV1pwFuctEXEiYT55Ppnp5HAfCqVk6+YaGsmcTdRGskEN0641bc29Ilzvzpo4gk/bJ9eZdHqVk4krExiMKhtD1k/UYa9gjJbLrdPo//8yf5j6jhWx1/tiI5nZ3HdXABnofdhV1ca8FoTCVVmopUTpS1jXJ5MQlb2CsmGicS2dZjLbh/VbWrPwxMJUW76nsq6u13O6yy3iI/VJBYmaYpLPM5YDxHAWeh92NWVBrz8pGfpE1/wfv19enuPvUvus9sQZVVNlH59ue40eRobJhLb1mEuatNoZ3HZZyUSUf0K4eont0/qZ8k2icJesYoqt7t5HRjKcR56H3Z1pQGvLZF4fXqxXA1RVuskHiUuJyUSy3WY+6lEwjLtkusPUfvtTNs/cBZ6H3Z1pQGvJZGIt7HfQvCXszMT7ZpJPDsJH5hIrKuDQikzWEok7P7cUtOmaj3043Mq20NNUHLk9plEYmTq/HpF6y+Xv51xnyKAs9D7sKsrDXjfJhKdmCiihwlFWWsm8WiZmCht2bN1o/oVJk5jvzpo2h+2zMZYaf09cWrbI36o0tYvKsV/bdXtMt5f1HbG8BVZs1B+49cuC+uTSOBX0fuwqysNeC2JhNlITIiZEGWtmsSTfaqhrluaOPesQ0aUjMwjSgAW1h1CVDp6z8bY9uufNtwu47ZI8wK9LiHE/g6g1QE4C70Pu7rSgNeUSBj2QctOTrbDE/v6pf91k7hl9tvLCcpMSGrZ9RNnSx3sV1yn1/LHl5X9Qar5lunViuGrtbJuUaXtD0ClPyS1MpGwTD2GH5KS76MJ+/Ds9NVeuf08kbDHOPtRK7Of9CrFEab9TwGchd6HXTHg3VR2YscVyPMpBHAWeh92xYB3ffZKzfCp2v89fPIWn8zjZxNwBfJ8CgGchd6HXTHgXV/x3n/NbQ0cTnuvgLPQ+7ArBrzrG55ZSJ5vGP5Dq+hnwXEl0XvlAzgLvQ+7YsADtsd5hSuh92FXDHjA9jivcCX0PuyKAQ/YHucVroTeh10x4AHb47zCldD7sCsGPGB7nFe4EnofdsWAB2yP8wpXQu/DrhjwgO1xXuFK6H3YFQMesD3OK1wJvQ+7YsADtsd5hSuh92FXDHjA9jivcCX0PuyKAQ/YHucVroTeh10x4J2Hdn+u9L3l/cWZ6H3YlTbgEQSxfQBnofdhV9qARxDE9gGchd6HXWkDHkEQ2wdwFnofdqUNeARBbB/AWeh92JU24BEEsX0AZ6H3ATejTSJrItBe2yIA/BbOeuDitMm6NUq09bcIAM/GWQ5ckDYht8Y3tPK2CADPwRkNXIA22bbGnrT9bREA7oszGDiBNpl+E2fR6rJFALgPzljgANpk+U1cmVbfLQLANXF2AjvRJsPWuDPteLYIANfA2QhsRJvsWuPJtOPdKgAcjzMPaKRNZN/EL9PaY4sAsD/ONKCSNlF9E8jT2muLALA9ziygQJuMWgPttPbcKgB8h7MIELSJpjWwL63NtwgA63DW4KdpE8k3gfNo78cWAaCMswQ/RZsovglcl/Z+bRUAJpwReDxtImgN3Jv2nm4RwC/jDMDjaAN9a+DZtPd8iwB+CT0et6cN5K2B36b1ia0CeCp6N25HG6S/CaBE6zNbBPAU9GbcgjYQtwbwDa1PbRHAXdF7cUnaQNsawJ60PrdVAHdAT8UlaINoawBn0/rlFgFcET0Tp9AGyW8CuDKtz24RwBXQE3EYbSBsDeDutH69RQBHo9dhN9og1xrA02n9fosA9kYvw2a0Qaw1gF+nnRdbBbAlehSaaQPUNwGgTDtvtgjgG/QgrKINQq0B4DvaebVFAGvQY1CkDTKtAWBf2nm3VQA59A5EtAGkNQCcTzs3twggoDf8OG2A+CYAXJt23m4R+F28+z9IGwRaA8C9aef1VoHfwDv9A7QTvDUAPJ927n8beC7e3QfSTuLWALAN7fwiiDTuiJniAbTO+E0A2J52rhFEGnfErHFDWuf7JgDsTzv3CCKNO2IWuQmtw7UGgONp5yJBpHFHzCoXpXWw1gBwPu3cJIg07ohZ5iK0DvVNALgWzlOkntIn6Mkn0jpRawC4Ns5bpJ7SJ+jJJ9E60JoAcC+cx0g9pU/Qk0+idaBSALg3zmukntIn6Mkn0TpQGgCeg3Mcqaf0iV1rrTUSQeQCeDL6PFJP6RMkEsRlAngy+jxST+kTJBLEZQJ4Mvo8Uk/pEyQSxGUCeDL6PFJP6RMkEsRlAngy+jxST+kThycSgEXfwK+hzyP1lD5BIoFT0Dfwa+jzSD2lT5BI4BT0DfyaU/r8+/X567tPF+3X/N31n7/X2690Ae8/Ucfu83ehqu1pek+muCMSCZyCvoFfc3Sff7/6JIGYR3eVGZtEYow7IpHAKegb+DWH9nmTRMj9dP3rM87N/irFsPxXZuyLku9RiDsikcAp6Bv4Ncf1+ffnrxP76f6mJEJ4/3VjIvH+6z9d55KLKdwtkNdbbi3L7j5/rykpsdH1cl9frOtfePVh2b9P/3p/Xrae/m+7nl2WGo5lXMeEPK5MW5xlrJeIOyKRwCnoG/g1h/X56DaBnYD98gI5YWsxlZEkKVqMK7euqycSuZDHt7g+icQuSCRwCvoGfs1hfT66rdF/KvIIs4n5dP8nbn+Yf0WT8jgBxxP+eEVAfcahfd01icSYjMwSKGV/JBK7eEQi0Sv70aPipFI7+UVcuW4rxe+LC+DJDuvzDYmESp2A9Qk/Xh6evfh+XZlI2PVCEa8/cbvCJxL2Vs24TCYMJBK7I5FIkUgcIn5fXABPdlifb0wk3q+/T2+/KtqlXxc1sZhIzCf9LdaV68lbGNEx+rpFVy/kyiQSu3tEIhF50GT7ZGm/sAE82WF9PhoDa56ReH16cYVAjZslEq5Mj0Ridz+YSMgO6zrn9H1rm71rHTpdZu8fyqePw71Fs16yfLJHGW5pfLLd48nmcV8igCc7rs/LccJENIZMhnHPDCLxLQEzBpqxaTj/1QlYH4PSfbpdfr/umkQiOg65MonE7n4+kYijJpHIhDkBo4nZx9Sfty5DP9lyIc+rxfVJJIDNHdrn5URrwn7Vcvw8IT7EpImE/OAS/aDVQiJh1w1lTLdTvl93TSIRH3NmfyQSuyCRiOKLRCIXY+/fugz9ZMtGKCNqH3tyhrPt2Kx9rJcI4MmO7vPRJ/RMDLcAkjFBDTWR0GO6rdC6bmMiUbE/Eol9/HwiMWTk/hVH69DxsnHyNZ1Z25f+9PD2ZYR15ckmj+fKTzaPdRABPNkpfT73f230f9H/tWEftOzEuGivjv7ZZePf+hjURWWnt1Hb19XGtuVEwopvGeeP4xrGeoq4o59PJKLOOdA6tN7JTW8W3xgJl+gMdVLer4w1J1t09UKuTCIB7OoZfT43jmnWrLsjOQ7OB/xTjfUScUckErN+pXX+3Alx70RiuqxokEgAu3pGn8+NY5o1627DXnGdHlw37BWZsQ7JmHcBoV4y7ohE4scSiejWhlyZRALY1TP6fG4c06xZdxvR+JbGAePaWlo974hE4scSiWiZKOPoJ5unOkwBPNkz+nxuHNOsWXcbwzdN0v98zPwd//z3dUT19HFHJBK/lkhEZWSCRALYHH0eqaf0CRKJn0skrPOfbB73LQJ4Mvo8Uk/pE89LJNBGJh3z7Gpzsk+EAJ6MPo/UU/oEicQPusKTzbJPhACejD6P1FP6BInED7rCk83avoEno88j9ZQ+QSLxg67wZHO0bx/Ak9HnkXpKnyCRwCnoG/g19HmkntInSCRwCvoGfg19Hqmn9AkSCZyCvoFfQ59H6il9gkQCp6Bv4NfQ55F6Sp8gkcAp6Bv4NVqfJ4g07ohEAqegb+DXaH2eINK4IxIJnIK+gV+j9XmCSOOODk8kCCIXwJNpfZ4g0rgjEgniMgE8mdbnCSKNOyKRIC4TAID7IZEgLhMAgPshkSAuEwCA+2H0BgAAzUgkAABAMxIJAADQjEQCAAA0I5EAAADNSCQAAEAzEgkAANCMRAIAADQjkQAAAM1IJAAAQDMSCQAA0IxEAgAANCORAAAAzUgkAABAMxIJAADQjEQCAAA0I5EAAADNSCQAAEAzEgkAANCMRAIAADQjkQAAAM1IJAAAQDMSCQAA0IxEAgAANCORAAAAzUgkAABAMxIJAADQjEQCAAA0I5EAAADNSCQAAEAzEgkAANCMRAIA9vb++3T//n3+LUT/8usDN0IiAQB7I5HAg5FIAMAp3p+/TiYS/Yc8AndEIgEAJ3j/dSKJqLka8f68/vrkykb36fq/z+vtVxn49aIk5Z/5u//8yRXfr0/fxXWw66RlyWTH1vH9CnUQiY8p6683dfHrDWHK7uPC8FAkEgBwtPRWx2IWkV69iGPcfOkWSvdnSjJMMqC+7mNKAEr79YnEwj67P5KJpyORAIBDrb+lEV29MFnDODX7KwEukUjKDUnDIFylsMtenz6sYyIkDdOVBhvdx83/S4mELCtsYzfLLMcj7Z9I8JARAIzW39JItvG3KGZzc3SVIZ+cxGXFyYZMGtyVhPmyaL9in+mVB7kfxvdnI5EAgKOsvqXhZcfR7tP7CTyfIMSi9ZL9v3q/3ISWSKTVjcoqBLc3nu2kWxvp5bLlS3sAcG9fjnsmmeij7acYrhSQSOAkpyQSaedbTsp5WhnAva0f93JM0vAy444c52xhlbc2ovWShGNtIhGV1X5AuLnjE4nVl/bSLD6OcfOlWyjhhIlOtnnwtDKAza0e92Jv+wHJbPMWQ4pdFpeXjFnJ8w/DB6FhWfvDlvNqxw9V2rLkqPf2H9pWHi5u5uBEIp2cly/tpZfhxk7K08oAbqL2FkAuwShvL8efbT5QTR+ClhIJY2mfJkgknu3QRKLl0l60DU8rA7ihciIgIjdgaLdQTQKRXqVwvr3FKwusSCQss42+T/swqPgAiEc6LpFovbSXzXZtB3XdM58gxKL1kv3zkBEAAOsdlEjEk3LNLY2ISSZ4WhkAgOs5JJFIJ93aixFz9oEhnlYGAOAq9k8kWm9peDytDADAde2eSNTeAsglGOXteVoZAIAzXT6R4GllAACu66CHLQEAwBORSAAAgGYkEgAAoBmJBAAAaEYiAQAAmpFIAACAZiQSAACgGYkEAABoRiIBAACakUgAAIBmJBIAAKAZiQQAAGhGIgEAAJqRSAAAgGYkEgAAoBmJBAAAaEYiAQAAmpFIAACAZiQSAACgGYkEAABoRiIBAACakUgAAIBmJBIAAKAZiQQAAGhGIgEAmHv/fbp//z7/bHR/n7dfvLuz9otmJBIAcAnvz1/nJ9B/3efv7Bn0BonE+6/z7TWPrus+/d/rmHrLOje9d4X3/uuy90ciAQCXQCIx2CiRmOKAtiSRAACcj0Ri0JpIyHXfr08/tqWNa07Ak4u99yuRSADAId6f118vPl26SaPr/z4vO/FFy2X0n5fd2m7bpZ/Azfadef0dzzyvflqnf6X77YZlqfcrWacXf4tJur4ecnK09ZD7cMc0rFW5X002kRjE+/9nKyCZNv/rTb3D60MZsm3m9R+ZOk/b2P3qiUBdWy2994UkY0iY4vJd2f51r6U/rEEiAQC7Sya1JPrXciIhJwMt5ES3tK4Nuf7iLQIxSdfXo3TM7pjW7FdTTiQMOeGL5MVsGCcQSXR+to7KFw0ml7t19cm+rq0aE4no2OYhk4O1/WEtEgnNDS7pAbiPdEIaz23/qdgN4oVPnsbLrhc9PGg+WcoJYsVkP0SYOZJJdZyAMuNRfT0WEomV+9UsJhKzfdiFcuIW7RxdFfLL1bpo71MukWhpq/S9116Lk4/QdunVnake07rZ+CKTuEgiUWrEE6zoyJtqPYGS4Gll4FriCa///JmBf96dG8bBzJghJw77iXlcniQ0VnYyXjMOquvK44nrYW2x38VEYjbh2kXTJ/lw5SGQ5bnmUd6TxWNdeO9Wbz9/LX/c8za31vSHFiQSmjUn0JZaT6BsHNCWss5N+yu891+XDVxE1Jdl2KQ/dOzlcfD9+vv09r6++bAwK0+MGXLiiOaH2b39eN1oMimMR3X1iCe1dJ5q2W9qMZFQxpC6sXOahOX6wySc/O3k37v1bZW+9/PXomNIGjZNGtJlS/2hBYmEZkVH3tQWJ9Dw8I1fPsQF2rPoYu89sBdzfsfn5hRuwC+dC+l5rYQYB1oTiWliNNTxaE095PGUE4nl/eqy42Agj7f2uQwfY52S+vyN9ZbvkfbetbZV+t7PX/vRRCJ9StSGyc54Wrlqv5ryCRTvf3bJyt+XnfZtwhzX1Dbz+o9mHU8/AX7laWVgPXPWvMw5ODtH8/09Pt/dOTS8nJl010wc2UlJKXtdPQrjiLFmvzlN46Bsg7RSqqScENH+5u9de1slY532mvI+Bg9NJDJvgg+eVs7EwptaPoEM2UFE8hJ1YiVCx4vKFw0ml7t19ROgrq0aE4no2OYhk4O1/QHYw5BYm44mP2/YZWM/HDphPG6Mn4iN6LyT56M5F7RJV/b7qH9rE0d0Pk3nmS07XXddPeLjiephrdhvTnYctB+WojFYjIHRuOM+TMh9vP2HFFnfaD8+5Ptj1piNVd+01VLZ8TFMY15UtmjTVf2hwe6JRPQGmCMYK+o/FbuD0hpqwtPKc9kTKJjtwy6MT6Cxne2Jky5X66K9T/p79ytPKwM1tIloiqm/6uvNxww1xDgg+33UvdWJozRe+QjrrqpHXO78NFux34xyu/ro+mRcMSqOI6rvbP2KsWrle5Z977WyLfleKiGTkXX9Yb1jEwn7hibZn5NpqBL5JokGkA1mG3JcLuvhWzKum2jETNkqdd34BJH1sLbYb7aMUTrh2kVTp4kz3rg81zwLJ4Z6rAvv3ert56/lj3ve5taa/gDsxn9wGvv/EOZv0/fkVQrbj23fjNazl8XtKy9z/og+7sZTfcxYP3GY88fUb3zNnm+ZsuvrEZ+T+mlWv19NNB5EYW+j2g+q2nzjmYYfbnXKYzExbDf71lt8LPN6ydencWzNe2bL0N97veyBv3oyrm9i+Za/X2jdJZGIJo8o7JsVql1oKK/uydd1DSbXjSaTwoS+/gnc+QnUst/UYiIRtbtr0/xJF0eYhOX6wySc/O3k37v1bZW+9/PXomNIGla2q5ZILPUHAMB6xzxsaSY1nlaerNuvbjGRkMfr7w+uTSTS+vC0MgAgdUwiMTKfanlaedV+c+L6pOvG+x/3IdsgrZQqKSdEtL+FyX5VWy0nEqUEgEQCAI53wDMSPU8ry3pYK/abk00k7L1YsW+eVpbrumWDFW0NAMg79mHLWYhJVF3PfpoVn2JzISaCdRNHPImpEdZdVY+FRGLNfjPK7eqj42llEgkA2NcBD1vytPI8kbDq96vJJxLu4UaeVnZIJABgXwc/IwEAAJ6ERAIAADQjkQAAAM1IJAAAQDMSCQAA0IxEAgAANCORAIAreMf/lUD842w1/Nel+TrzxaTvy/PeJxIJADhU+HVW9zs5TvyLrUcmEu63VmRdvqUd3y8jkQAAbEqZaP0PpK1PHiQSiWsikQAA7Mz9Um3y662rXSWRQIxEAgCwqXgikT/jPkbFJGN/hj56pqLv3d9iwnrZ/55ArDP8hP74M/i+HuNrIWxSsbRtiTJR+v8qISrL/jcJ/mWdKGf4SXyxralHKm0P97P8cg/+Son9rfzxeRR3rNN+RBl2+2Fz/18K+HLjete0U9oe8m//bzWR8/WV7XhRJBIAcKh4YmlKJEr/cV06YSnruFsoudfF5Dp7reb2S3x844SohP7/EAX5OtiI6lFoj2k9rR7lY7Wv98r7M5VZ005peyR/+7rP2iK3/IJIJADgUOnEYpasurURJkT3n/NN5uXOzdepv7VRU76lT5TRp3T/HwcqFxYEX47d1l4FCBuH/114rMfUHvIKxPAfBw7Lw7GJdtOuGETtaa802GUmzH6mxem+NWk7Lf3t65VkDHe65XReIsFXnR5q6aQBft38nFiVSIwTc7qyfq65S/728ru8tTBNUKUJa2lbXVKPbH2X5MaO+vLD/5Ls5mh9ws7uR70i0NLG6TbzMtx7IN//XF2v6YBEImSBsvOFZVMclUhsn+Vpx/fLlk8a4LfNz4k1iUR+3cy5l4y1LqbxSh8T67bVlethJ9vhisDisablTIY6++XFtvNXENz8skciER9bHKGdMtvI/aXJkLrv6zonkShkkPUyb/4CEom9VZw0wE+bnxO7JBJ+nA0PHb79zJ2OgeqYWLmtTjvnTRn+U/tQ7hD2VoJ/WZUfOy6TSFS1U1q+tj9fN79MHt8dnHJrY81Jk5fvZCV1JwLa1Zw0wC+bnxOrxkR1grPicnNlpmOgNibWbqurOOfDswbFTCJfTjTR+vbQPpi64whttX0iUddOafn6/say/LMd333QPtYBiUTcaK6Bk0jfQIXLZqdt+KpT3B581Qm4i/QcMUsyE5IqTML2PBLr2zFhWO7LDZOonJCmsWU6B92YbCcwv8Co3VYXH9/bjid2HNHqGs/SiXk7BVEiEcaO4RhEfcM+xvqKMTGS2U91IrHUTmn5mf2N76uNyr5wEfdIJMLlIy3SN0dZx73Judftm720bUnaKUKnnkfxnCnUwUZUj0J7TOtp9Sgfq32drzoBe0vPEbNkTSJhqONoiFBuNDGlMSUDYTKMXqvcVhcf37z8KarGRNFOQZxIGGvGxNlOM/tRx6Rk3ap2SsvPHZdfbre92UB4eCIxLFl10oQJka86uUVTe1Rl37bdtCsGUXvaKw12mQmzn2lxum9N2k5Lf+snc/37Atxdek7YU21dImHLeJltxklsuCL5mpVrx6N4nXCuy3PNXWkc1vHrDa9VbauZjwHyKqcsr2zeTsFQj2T5qqu0kcx+ahIJa7Gd5u2RO66QdN0sj7hBIjFOzLMmV98M15ns5XdxYoiOXzoRlrbVJfXI1ndJrnPVlx93wp1OGqPcTuk28zLceyDf/1xdAeB31CVq13P5RCK/bmbCGic2GUuJRN22unI9+KqTsr80GVL3DQA/JFwBvuFA+JxEwk9G4dISX3XaIZGoaqe0fG1/vm5+mTw+APhFa+bFq7nNrY35JByXmyszTQa05KB2W502USaqMs18OdFE69vjjFsbde2Ulq/vbyzLJFxT8gMAvyj+cHU3108kwiRsJyqxvv3EPyyPJrl4QuKrTto+M/upTiSW2iktP7O/8X21UdkXAACXc/1EwnCTfyZCudHElMaUDITJMHqtcludPtlqUcwjlHYK4kTCCLcYlJgm+e0Tibo2TsvPHZdfbrctNwwA4MJukUjYMviqU7zcPYNR2scOiYS12E7z9sgdV0i6yCMA4L4OSCQAXV2iBgC4MhIJnCPcJuFyBODlr94d4+z917hDHc9yXtuQSOAU629vAU+XTgThwer6q3brrvKl5W8/EW1/1fEhicTb/X9M62+Bl5BI4Kf4AezugwGwKRKJZU9IJPwxhAQiifaLtCQSAPDjvp8Ivpu4SSSOYY6hd//X0XQM9iF9/yWA5kyCRAIAfkr6zauu793f40SgTAz+knjYxt4edP/Vv193XB7CTuL+yoOdoN5hn3Z5Wr74e/x9GBduH0FuwpLLS/Xxa9tvgGX34Sy3UU5NHb1sm07Kdc2171qinPRvpdz2ttkeiQQAHM1/3VqNcSJIJz0/sShhP93mJ25tu0IiMVvXxzjBKZPxQC4v1cesGT59pzHuw6hqo5yaOlqlNh1WqKhrrn3XCF+jl8+NFcr9qm22RyIBAIcKE4T8r/ytdJJL/vaTR2f/E8DhdePtfrcm/FKvfitB7E9um5Yf/raTmbzsbq9O+O3dJJduF8yXF+vTmeXTTpKJtLaNcirruNimK+satW8FkRB0valTtHGu3G/bZnsnJhLnHbRz9v5r3KGOZ6FtcFPj5JX23LRPJ39nt5sUJ275aX+wsD8h/vG43Hrz5Wp9huOQn7w9/5Xw4fiq2yinso5LbVpT12z7VvD7HyOqb6bcr9tmexdKJEKWlZ4EefpJk5OWv32jr6tPjfM6xqYe9lUn4Bv5rz6nfTrztz+Hus5/UhXl7JVIxJNXbr35cq0+2VsFIUw969sop7aO/m+/77RNa+qab9817FUQv6+xHL3c79tmeyQSGzY6iYQmPlHTaD/3ntA2+EXtiYT19g/ZyQnOXuJ2r5JIBPV1tMtybXpcImH5uo3tRSJR4fuD/m7i3r7RSSQ05hge9lUn4Ct+Up53/bRPV/Rxf4k9nEd7JRJhQnVF5NabL88nEtpEKFS3UU59HWdEm1bVNdu+a/lyFhKJ79tme4clEnzVia86xdKTpFzulb7qBHwlTFS2f4vOa/v4sHzs0/H5+7b/GaA9F7Vt/HnkJm4z8UUnZHquBen4oI8jw3gQ6uuWuPXMsulhP/up3q8ntlfrE44/eoDRsA85mrFpWLe6jXLq6rjYpjV1zbZvxjC+2fKiAn1byXIy5X7dNts7JpEwb16YAGYxHnTaiX0jKmE7RugkcZiGVbezy9Pyc2X4GN+8dLtALi/Vx6wZPn2nITtIVRvl1NTRKrXpsEJFXXPtu0Y4aWSmXyj3q7YBrmecNLQY+3R8/mbPTRP581eMiXK8GaTjQ24ccyE3L9VFnpN6fcrbh/3UtVFeTR1r6rG8Tq59M8ZEQAs5lubL/bZttnZAIhEmCHd5e5LpxOFvP3nwVad4H7rKOi626cq6Ru1bQSQEd/6qE/A9e96JB5DNOff3eiV9Ou3j7lyNJqFhu/i8sJ+U5eurEwmzTZ+UoT0YPXyal/sxJ/T8nNTq418xn6DlVcb5uV/TRmXLdaxp06W65to3z5UXJyh2TIx3Wyr3+7bZ0v6JxDh5pYeW68T+7+x2k+LEXX3SzBs9ZKCuiNx68+VqfYbjkJ+8PZ+VDsdX3UY5lXVcatOaujacNCO//zGi+mbK/bptAAB72j2RcJOyMjnNJoLM337S4atOJbV19H/7ffNVJwDAty6cSFj24Zj0EpC9xO1eJZEI6utol+Xa9LhEwvJ1G9uLRAIA7uiwWxvzeSedCComhvCQii9sr0QiTKiuiNx68+X5REKbCIXqNsqpr+OMaNOqumbbdy1fzkIi8X3bAAD2tH8iMT6haiYMMeLbT8XD8nEiiCcGvupkFs/aKKeujnzVCQCwtf0TCWOcNLQYJ4I0kchfZg9zzXwdM9msTSSi7aeQm5fqIicyvT7l7cN+6toor6aONfVYXmd9IuESAS1c+zj5cr9tGwDAfg5JJMxsUvFVlflEz1ed+KqT833bAAD2cVAiAQAAnohEAgBwAO0qLp6ARAIATjC/hWh/2yXcavSTrngtG/52oPosUdcptxHLXDny+aWtbJ1I+Nuhu9QVa5BIAMDBig9HD1/B3iiREJH9RdsEiQTWIpEAgEOFCdD+EJycUsOPxfXqb7mE5CP3nLOWALz9V7dDMlHzjPR9EglcBYkEABwpfCW6ZlYXWhKJkf9ht/IknrsKMpU5/DaNWGf4XRr/WjBbJ71dY+tg/3PEcZ3uY/8jwUnDen6Jld4y6vre/T2ul0tocuUtH/OvI5EAgCONP/yWTmRlXyUShnvd3jbxC2b8ROonzClcmdnbMaJC5XVy5buYbr2sXE+2Y0iYtGhIJGqOGSQSAHA4N6nb6D69fRjSfGKPJ7W5bxOJpe0DvRx/O6Yzy8eK2tsm7hjc3K7fshmuEAxXEqYEIfqF3VlitXK98e9p/9Fv44SrGtntgkx5xWOGRSKxm1xnBQAzQqQ/DucnrdwE9W0iYVYYtl966FItZ9hWmTz95D6UuVh+7QTeuF52/43l1xwzBoclEnzV6Vsh296jrgDO4x6y/BsfitQ/7Z55RSJsmw175WBYp/RJPT8mDvtcnOjL6+X3n5aXK18rz/ydi6WG/CGHJBLlN8S+8f4NVF9PopRIiKjNFpdOvna5ztqKRAJ4vMKn+jCOtiYS7vXSRO9o5dRMqvmJPMiPicM+Fyf68nr5/afl5crXyjN/54JEYnRAIjHdt+KrTgBQULhs3jImjnyCUjMeqWPrYpJgNN/a8Psclzeu5/c/b5+0vFz58fKqY8Zg/0QiPCCzMnvb/6TxncauF8VUJl910o8ZwBeGc8yNE9G5Jc5/bdw79sOVmUCjgsKDjqb8aMBw5btnKf06w7bTSrOHLWdjkd/n4pi1sN64f1lHU7/wLEq63dAeYUX7wTZZr+aYMTgukVA6RclXiYQxngzZnU6dKQ5XZtj/LESFyuvkyncxZe0r15PtaDq+ts0Q6Ukza//58ppjBvCl0nlrw5xv8bnq1I2JubD/g69W6tx8HFgYE02EOlWNicpcsEkiYRTbQKxXOpba9RgWJ4c8IzG9uXzVyVQsmx3zVSfgN7griZ07x0OYv6f/rn+ubkxMouEBdHfeiwnUjgnhleQK6DD+JXVWr9IOK+TGIl/3xTGrZj17BUK0q23T10stL/rWzDDu6futOeZfd0giYfFVpyBd3rhedv+N5dccMwDcTm4MxFYOSyQmfNVpOat2Suvl95+WlytfK8/8nYulhgSAS8qPsdjGCYmEUPhUv5QILCUS7vXSRO+QSMjyzN+5IJEAcEv5MRbbODeRKFw2/yqR8AlKTcfJJxILSUjzrY1ygiAV1/P7n7dPWl6u/Hh51TEDwO3kx1hsY/9Ewkx4fNUptkkiMe5f1tE+aJR8hSlsN7RHWJGvOgEAtnFIIhEmdjXMbC/nraAukciFfapWK3Uu7GcKl5zMl08R6pRdZ1hh50TCKLaBWK90LLXr1SRlAIDfc8itDb7qFNsqkbDL+KoTAOBM5z4jgR3kExMAALZGIvE4JBIAgOOQSDwOiQQA4DgkEo9DIgEAOA6JBAAAaEYiAQAAmpFIAACAZiQSAACgGYkEAABoRiIBAACakUgAAIBmJBIAAKAZiQQAAGhGIgEAAJqRSAAAgGYkEgAAoBmJBAAAaEYiAQAAmpFIAMBR3n+f7t+/zz81+s/LrzZ6vz5/fZdsY/7u/z6vt19HePVyvTTsdq+PshnwFRIJADjKikTi/eoL67ro/uK0oJxI+Oj+SCawKRIJADhalFAoVyJMEiEn/+5vupLw/uui13qxcZRIiBdsUpLbBvgWiQQAHK2YSLw/f9006cuEIIgSBnGFIZdIpGWmVzKAb5BIAMDRSolEcvtDvXoQrdN9Ql6QTyRen35cnysS2BaJBAAcrZRIRLchlNseAz0xyN7aiG6H5MoE2pyTSCQZdxxKJ+fJZQBPckQiocZ09QLYyuUTCZ5cBvA4pyQSJBHYx7m3Nkonk5U8acyTywAeoTT2JR+01HEqWqf0jETy4GY2MQHaXTiR4MllAA915NiXJCZaecA3rptIJJ1f7fvROjy5DOAmiomEkb0a+/68Gq7GzsvjQxS2c91EYqv7hOJk4sllAKdKPiDFEY9JXz8flnxSil7jeQls6PmJhBqcRABOsCKRGKjfWDPRVXxjLUkkTGE8L4Fd/GAiQRIB4IbkmDhLEoDz/MgzEmTiAG4uM94BZ7tuIpFO/komESUMPLkM4OFyV1sZznCmCycSRnR7gyeXAfw6O/bNH8IkkcCZzkkk0qsDUcQJBU8uAwBwXZdPJAY8uQwAwCWde2ujBU8uAwBwGfdLJKKrGdyaAADgTPdLJAyeXAYA4BpumUjY5xx4chkAgPPdNJEAAABXQCIBAACakUgAAIBmJBIAgPO9/z69+I2f9l8e9r8VJP7bhHu4a71JJADgIOF/K+ZH8Obi/8mZROJeSCQA4BAkEln+hwa3+f+PSCSORiIBADjVe/hPGLf6gUESiaORSADAIdKJQvz9fonnAzrzybz+msXwHxuO25pP9V3/+Rv+E6K3+aBvyhKvhbKjicr/X0bROn28zmwfyesl71f87MO/sX6O+gODS5Npsc7ahGzbwq3bi32XjsutnyQ3/spJ/JtF/kqTWFjTXmm7dH3v/iaRAADoMomEn0jSqLnM7z7JK9sPk1q+/Kns+bMJIcK8WN7HAj/xahHqsD6RWKrzPJEI+5BtunhcStIwbhMvHH4cMSyqaq9Cu5BIAAAy8onE8Ik1zB7h/xNanFDChNqZSUxMkPaTbvaKRlIHP6FFVylMRewvB7si/D66XvxPy+HT/dKtiKl+8gqErZ/7VeLpWRE3+Vbe2lisc3yM9qqMW18WXnFc/n2YtnPldp0tTzznMtQn1L2mvfT3La33nZBIAMAh0okiN3FUTijjhFqedtwldHuLQ35S9hPhUhnRJCnMJllFoezwqT3+FL82kcitPLXfy+9ntm7Vcflypkqa18w2PhEKi12SINtzodxs/Svf9wsikQCAQ6QTRX7iGCanhQllefL15ZtJax7hE3W8jk027NWMcHUke5k+hLxcnyjWL0lEViUSC3VOX4+uHni1xyWThGGb4T3x5Q/ryH/XlZs/Vl8WiQQAQJdOFPmJY5NEwn/yDQ83vv1MG32CHpjX/FWLadKzl93DPsIyJfwEqinW76tEwsrX2b42tKstL9xGSdqy+rjEFQbbblF9hzLdbYr4OJTyQpBIAADabZtIhERhfoncyU1Y80Qi4Sf58qRXoVC/MOGG+fqr/ViizuaPqF3DvmTSU70/X27/sgmDWH9Ybv4eEpVpeVW5vl1EdTwSCQBA0caJRJg8hwltWjM8bBkmUDmRT18zDZfr+/hBT2N8GNLOdGEf0cODhn24sbf79X+rpocKt3zYcrHOSru65ElM3tXH5cqaPWCZW15T7vi+xeuMx0Aiga+ZThZ9t7jmzFLlB6lru2u9gSVp38739apEwhg/bachkwA13OSX3d5EmHRr1skKt1eUiBKcVYnEUn20dvXLxD5qjyskIfKKhpVbXlPuuK0WNxz7TkgkQpYqszs4oW2mIJEAniLt2/m+XptIWOoPUoUN7WthPPHPSrhJLIy/5m/7CT+sI9aThqscYh92Qh6uevjXS2bbauWvSCSW65xpV3klICyqOK6QGCT5wtC2drl662axXHsMXfLevG479pFIXEmhY65HIgEA2B+3Ni5kXVa+hEQCALC/ExKJdKIQf/N783EsTab83jwA4GTXSST8RJJGzWX+7MMtw6SWL38qe/5sQogwL5b3scBPvFqEOqxPJJbqPE8kwj5kmy4el5I0jNvEC4f7fWFRVXsV2oVEAgDu4VKJxPCJNcwe4cGYxQklTKj2x0jEBGk/6WavaCR18BMavzdvJcfl34dpO1fu7GtPQ31C3WvaS3/f0noDAK7tWrc2hr+DygllnFDL0467hG5vcchPyn4iXCojmiSF2SSrKJQdPrXHn+LXJhK5laf24/fmAQB7uXAi4SenhQllefL15ZtJax7hE3W8Tvrb7dnL9CHk5fpEsX5JIrIqkVioc/p6dPXAqz0umSQM2wzviS9/WEf+u67c/LH6skgkAOAWnp9I+E++4eFGfm9+Un1c4gqDbbeovkOZ7jZFfBxKeSFIJADgMW6fSIREYX6J3MlNWPNEIuEn+fKkV6FQvzDhhvn6q/1Yos7mj6hdw75k0lO9P18uvzcP7IE+j3u7fyIRJs9hQpvWDA9bhglUTuT83rxfUH1crqzZA5a55TXlju9bvM54DAyq+Bn5MbBk8cPQk4zjhYz5sQ/jfnSF1o5P8VftgzAexjH/2j+W3T+RMMZP22nIJEAN1xGz25sIk27NOlnh9ooSUYKzKpFYqo/Wrn6Z2EftcY0nXXKwueU15eonso+VgypwXyQSiyoSifDNtFzYBEFi/NnOIxIJi9+bT8vMtKu8EhAWVRxXSAySc3FoW7tcvXWzWK49BvMJILw+1P++vzcPtCGRqJa7JTp+WLPPiNlHwQP7HNk0TspxSm0/e7XarzvbB7JOSCQA4HelCfb811zdLcD8r/H6xGN8LYSdFJe2LcklNMryr38J2E/YdrY2H25ce1QkRWoiEdqj8CEsfIASx5BNxPw+tA9H0JFIAMBRxk/OSohEQk8UwuRWTiTK25YoCcMgXT59ak8jTPDZW5tjBqCV0ZhIhCQhzi5mXOIwJRu5RCJ79RVZJBIAcIjpwev1v+Y6X6f+1kZN+VZlIjF+YhdXGOyD1OOv6vrj7EzdphWSiVy0RdXVEk9LJCqvIKQJgtZ+9mpReusXy0gkAOAI2QlPn8DdLRB7m0J+up8muFIisbStbm0ikZm4h9eV2wz+yoHbzicSaz/2FxKJxaKServ208ImesMqqEQiAQAHyD9MnU7g/m91kltKJOq21VUmEsk+0l/Vzd7WCDHM0tsnEm1XJJKIrqKgFokEABygOpHwE2P4Flbu13jVRKJyW11tImHlf1X38ERio2ck3N/LCQnmSCQA4AjaJDiIJ+pcwqFPfHFyULutbk0ikRCTeT5hkjZMJEL9Svus+tZGKEd7j1BCIgEARwiTmZ28xIQ3PuAXJRLxJ+P013gtNxGayVNMerXb6uREGrYXv8Mw1s/8bROGaRfTMdgZeJy04+O0G0y/mLtlImF36Y7btkfpdyTkdnpy5eu1mAhBulAiUZH1AsCNuckrE2HsGxMOLaaJb5o8xWuV2+bMyxSRJDpahIl6eZ2ViYR6XPHxLP6yZZIZZK/SyITPL0LZ7ROJbGd4ooqTyZrfuzQnkb9nmtIHtvmPywDYgv2apDm/wrk2nJfKr7mKT9HheYf5WOc+4Y/nrb0CYBdXbZs3XHGQZb7Tsdkeg1hH7Edy45BYx14tGL/quX0iYWljXziGVLFN/JWPtfPRryKRuJMtsvLkxNUTCR+cRABuK9ymsImEX4RdkEjcUeY+YVi+dJ9QXuJT24/fmwfwANoHJb6Vsb3TEon0she/Nx/aoyIpUhOJ0B7fPrns+X1w0gG4Lz8X2HHPR8+YtrlzEonxk7MSIpHQE4UwuZUTifK2JUrCMEiXT5/a0wgTfPaBozED0MpoTCRCkhBnFzMucZiSjVwiEeq+UBwA4MedkEiEydNdfp/kJnBpvk72E/VMTflWZSIxfmIXVxjs15v4vXkAwA85PpHITnj6BB6ewuX35oVCIrFYVFJv135a2ERvWAUAgKzDEwn3iVi7j59O4P5vdZJbSiTqttVVJhLJPvi9eQDAL7puIuEnxvD9ZH5vXtASiY2ekXB/LyckAABYp93amM938USdSzj0iS9ODmq31a1JJBJiMs8nTNKGiUSoX2mfVd/aCOVo7xEAALHjE4kwmdnJS0x44wN+USIRfzLm9+a9TDIWjtu2B783DwA4wvGJhOEmr0yET8tjwqHFNPFNk6d4rXLbnHmZIpJER4swUS+vszKRUI8rPp7FX7ZMMoPsVRqZ8PlFAACkTkkkzCzF780Pr26fSFjz5zZM+GNIFdvEX/mI3hMAAISTEgkcJ9ymsImEXwQAwEZIJH6AdiuJb2UAALZAIvET3O0feVuE35sHAGyBRAIAADQjkQAAAM1IJAAAQDMSCQAA0IxEAgAANCORAAAAzUgkAABAMxIJAADQjEQCAAA0I5EAAADNSCQAAEAzEgkAANCMRAIAADT6fP4D78bswfTmod0AAAAASUVORK5CYII=)"
      ],
      "metadata": {
        "id": "Zeewr84ri83x"
      }
    },
    {
      "cell_type": "code",
      "execution_count": 2,
      "metadata": {
        "id": "7pJAIpcBwywn"
      },
      "outputs": [],
      "source": [
        "import pandas as pd\n",
        "import numpy as np\n",
        "import matplotlib.pyplot as plt\n",
        "import seaborn as sns\n",
        "import scipy.stats as sc\n"
      ]
    },
    {
      "cell_type": "code",
      "source": [
        "# create  Data\n",
        "l = [11,10,12,14,12,15,14,15,13,102,12,14,17,19,107,10,13,12,14,12,108,12,11,14,13,15,10,15,12,10,14,13,15,10]"
      ],
      "metadata": {
        "id": "_NPfowzNxH07"
      },
      "execution_count": null,
      "outputs": []
    },
    {
      "cell_type": "code",
      "source": [
        "sns.boxplot(y=l)"
      ],
      "metadata": {
        "colab": {
          "base_uri": "https://localhost:8080/",
          "height": 269
        },
        "id": "qW73ZJGvxiZc",
        "outputId": "80519fff-df0c-4444-e78b-6754fa75aeae"
      },
      "execution_count": null,
      "outputs": [
        {
          "output_type": "execute_result",
          "data": {
            "text/plain": [
              "<matplotlib.axes._subplots.AxesSubplot at 0x7fa77cfadb10>"
            ]
          },
          "metadata": {},
          "execution_count": 6
        },
        {
          "output_type": "display_data",
          "data": {
            "text/plain": [
              "<Figure size 432x288 with 1 Axes>"
            ],
            "image/png": "[encoded data removed]"
          },
          "metadata": {
            "needs_background": "light"
          }
        }
      ]
    },
    {
      "cell_type": "code",
      "source": [
        "# Using Z score\n",
        "\n",
        "def find_outliers(data):\n",
        "    outliers = []\n",
        "    threshold = 3\n",
        "    mean = np.mean(data)\n",
        "    std = np.std(data)\n",
        "    \n",
        "    for i in data:\n",
        "        z_score = (i- mean )/std\n",
        "        if np.abs(z_score) > threshold:\n",
        "            outliers.append(i)\n",
        "\n",
        "    return outliers\n",
        "    "
      ],
      "metadata": {
        "id": "_PuV1S-cyf43"
      },
      "execution_count": null,
      "outputs": []
    },
    {
      "cell_type": "code",
      "source": [
        "# calling z score function for outlier detection\n",
        "find_outliers(l)"
      ],
      "metadata": {
        "colab": {
          "base_uri": "https://localhost:8080/"
        },
        "id": "e2vzwPI1z6ne",
        "outputId": "55ccf3e1-2ee4-418b-8ed7-13a3b7dac5f9"
      },
      "execution_count": null,
      "outputs": [
        {
          "output_type": "execute_result",
          "data": {
            "text/plain": [
              "[102, 107, 108]"
            ]
          },
          "metadata": {},
          "execution_count": 34
        }
      ]
    },
    {
      "cell_type": "code",
      "source": [
        "# Using IQR ( this technique is usefull with skeweed data )\n",
        "# Function to see the outliers from diven data\n",
        "def iqr_outlier(l):\n",
        "    outlier = []\n",
        "    l = sorted(l)\n",
        "    q1,q3 = np.percentile(l,[25,75])\n",
        "    iqr = q3-q1\n",
        "    lower_fence = q1-(1.5*iqr)\n",
        "    upper_fence = q1+(1.5*iqr)\n",
        "\n",
        "    for i in l:\n",
        "        if (i > upper_fence) | (i < lower_fence):\n",
        "            outlier.append(i)\n",
        "    return outlier\n"
      ],
      "metadata": {
        "id": "uk0NBJxg4Wae"
      },
      "execution_count": null,
      "outputs": []
    },
    {
      "cell_type": "code",
      "source": [
        "iqr_outlier(l)"
      ],
      "metadata": {
        "colab": {
          "base_uri": "https://localhost:8080/"
        },
        "id": "Ajq4F2Wi5XpV",
        "outputId": "734146f8-914d-4283-c024-ff1a8a95ab6e"
      },
      "execution_count": null,
      "outputs": [
        {
          "output_type": "execute_result",
          "data": {
            "text/plain": [
              "[17, 19, 102, 107, 108]"
            ]
          },
          "metadata": {},
          "execution_count": 69
        }
      ]
    },
    {
      "cell_type": "code",
      "source": [
        "df= pd.read_csv('/content/pima-diabetic.csv')\n",
        "df.head()"
      ],
      "metadata": {
        "colab": {
          "base_uri": "https://localhost:8080/",
          "height": 206
        },
        "id": "cO04ZvHf5aMV",
        "outputId": "9888ee01-2041-4496-b108-20c0ba2dda97"
      },
      "execution_count": null,
      "outputs": [
        {
          "output_type": "execute_result",
          "data": {
            "text/plain": [
              "   num_preg  glucose_conc  diastolic_bp  thickness  insulin   bmi  diab_pred  \\\n",
              "0         6           148            72         35        0  33.6      0.627   \n",
              "1         1            85            66         29        0  26.6      0.351   \n",
              "2         8           183            64          0        0  23.3      0.672   \n",
              "3         1            89            66         23       94  28.1      0.167   \n",
              "4         0           137            40         35      168  43.1      2.288   \n",
              "\n",
              "   age    skin  diabetes  \n",
              "0   50  1.3790      True  \n",
              "1   31  1.1426     False  \n",
              "2   32  0.0000      True  \n",
              "3   21  0.9062     False  \n",
              "4   33  1.3790      True  "
            ],
            "text/html": [
              "\n",
              "  <div id=\"df-62775217-4abb-4e81-a9b3-5bff3ac9dc87\">\n",
              "    <div class=\"colab-df-container\">\n",
              "      <div>\n",
              "<style scoped>\n",
              "    .dataframe tbody tr th:only-of-type {\n",
              "        vertical-align: middle;\n",
              "    }\n",
              "\n",
              "    .dataframe tbody tr th {\n",
              "        vertical-align: top;\n",
              "    }\n",
              "\n",
              "    .dataframe thead th {\n",
              "        text-align: right;\n",
              "    }\n",
              "</style>\n",
              "<table border=\"1\" class=\"dataframe\">\n",
              "  <thead>\n",
              "    <tr style=\"text-align: right;\">\n",
              "      <th></th>\n",
              "      <th>num_preg</th>\n",
              "      <th>glucose_conc</th>\n",
              "      <th>diastolic_bp</th>\n",
              "      <th>thickness</th>\n",
              "      <th>insulin</th>\n",
              "      <th>bmi</th>\n",
              "      <th>diab_pred</th>\n",
              "      <th>age</th>\n",
              "      <th>skin</th>\n",
              "      <th>diabetes</th>\n",
              "    </tr>\n",
              "  </thead>\n",
              "  <tbody>\n",
              "    <tr>\n",
              "      <th>0</th>\n",
              "      <td>6</td>\n",
              "      <td>148</td>\n",
              "      <td>72</td>\n",
              "      <td>35</td>\n",
              "      <td>0</td>\n",
              "      <td>33.6</td>\n",
              "      <td>0.627</td>\n",
              "      <td>50</td>\n",
              "      <td>1.3790</td>\n",
              "      <td>True</td>\n",
              "    </tr>\n",
              "    <tr>\n",
              "      <th>1</th>\n",
              "      <td>1</td>\n",
              "      <td>85</td>\n",
              "      <td>66</td>\n",
              "      <td>29</td>\n",
              "      <td>0</td>\n",
              "      <td>26.6</td>\n",
              "      <td>0.351</td>\n",
              "      <td>31</td>\n",
              "      <td>1.1426</td>\n",
              "      <td>False</td>\n",
              "    </tr>\n",
              "    <tr>\n",
              "      <th>2</th>\n",
              "      <td>8</td>\n",
              "      <td>183</td>\n",
              "      <td>64</td>\n",
              "      <td>0</td>\n",
              "      <td>0</td>\n",
              "      <td>23.3</td>\n",
              "      <td>0.672</td>\n",
              "      <td>32</td>\n",
              "      <td>0.0000</td>\n",
              "      <td>True</td>\n",
              "    </tr>\n",
              "    <tr>\n",
              "      <th>3</th>\n",
              "      <td>1</td>\n",
              "      <td>89</td>\n",
              "      <td>66</td>\n",
              "      <td>23</td>\n",
              "      <td>94</td>\n",
              "      <td>28.1</td>\n",
              "      <td>0.167</td>\n",
              "      <td>21</td>\n",
              "      <td>0.9062</td>\n",
              "      <td>False</td>\n",
              "    </tr>\n",
              "    <tr>\n",
              "      <th>4</th>\n",
              "      <td>0</td>\n",
              "      <td>137</td>\n",
              "      <td>40</td>\n",
              "      <td>35</td>\n",
              "      <td>168</td>\n",
              "      <td>43.1</td>\n",
              "      <td>2.288</td>\n",
              "      <td>33</td>\n",
              "      <td>1.3790</td>\n",
              "      <td>True</td>\n",
              "    </tr>\n",
              "  </tbody>\n",
              "</table>\n",
              "</div>\n",
              "      <button class=\"colab-df-convert\" onclick=\"convertToInteractive('df-62775217-4abb-4e81-a9b3-5bff3ac9dc87')\"\n",
              "              title=\"Convert this dataframe to an interactive table.\"\n",
              "              style=\"display:none;\">\n",
              "        \n",
              "  <svg xmlns=\"http://www.w3.org/2000/svg\" height=\"24px\"viewBox=\"0 0 24 24\"\n",
              "       width=\"24px\">\n",
              "    <path d=\"M0 0h24v24H0V0z\" fill=\"none\"/>\n",
              "    <path d=\"M18.56 5.44l.94 2.06.94-2.06 2.06-.94-2.06-.94-.94-2.06-.94 2.06-2.06.94zm-11 1L8.5 8.5l.94-2.06 2.06-.94-2.06-.94L8.5 2.5l-.94 2.06-2.06.94zm10 10l.94 2.06.94-2.06 2.06-.94-2.06-.94-.94-2.06-.94 2.06-2.06.94z\"/><path d=\"M17.41 7.96l-1.37-1.37c-.4-.4-.92-.59-1.43-.59-.52 0-1.04.2-1.43.59L10.3 9.45l-7.72 7.72c-.78.78-.78 2.05 0 2.83L4 21.41c.39.39.9.59 1.41.59.51 0 1.02-.2 1.41-.59l7.78-7.78 2.81-2.81c.8-.78.8-2.07 0-2.86zM5.41 20L4 18.59l7.72-7.72 1.47 1.35L5.41 20z\"/>\n",
              "  </svg>\n",
              "      </button>\n",
              "      \n",
              "  <style>\n",
              "    .colab-df-container {\n",
              "      display:flex;\n",
              "      flex-wrap:wrap;\n",
              "      gap: 12px;\n",
              "    }\n",
              "\n",
              "    .colab-df-convert {\n",
              "      background-color: #E8F0FE;\n",
              "      border: none;\n",
              "      border-radius: 50%;\n",
              "      cursor: pointer;\n",
              "      display: none;\n",
              "      fill: #1967D2;\n",
              "      height: 32px;\n",
              "      padding: 0 0 0 0;\n",
              "      width: 32px;\n",
              "    }\n",
              "\n",
              "    .colab-df-convert:hover {\n",
              "      background-color: #E2EBFA;\n",
              "      box-shadow: 0px 1px 2px rgba(60, 64, 67, 0.3), 0px 1px 3px 1px rgba(60, 64, 67, 0.15);\n",
              "      fill: #174EA6;\n",
              "    }\n",
              "\n",
              "    [theme=dark] .colab-df-convert {\n",
              "      background-color: #3B4455;\n",
              "      fill: #D2E3FC;\n",
              "    }\n",
              "\n",
              "    [theme=dark] .colab-df-convert:hover {\n",
              "      background-color: #434B5C;\n",
              "      box-shadow: 0px 1px 3px 1px rgba(0, 0, 0, 0.15);\n",
              "      filter: drop-shadow(0px 1px 2px rgba(0, 0, 0, 0.3));\n",
              "      fill: #FFFFFF;\n",
              "    }\n",
              "  </style>\n",
              "\n",
              "      <script>\n",
              "        const buttonEl =\n",
              "          document.querySelector('#df-62775217-4abb-4e81-a9b3-5bff3ac9dc87 button.colab-df-convert');\n",
              "        buttonEl.style.display =\n",
              "          google.colab.kernel.accessAllowed ? 'block' : 'none';\n",
              "\n",
              "        async function convertToInteractive(key) {\n",
              "          const element = document.querySelector('#df-62775217-4abb-4e81-a9b3-5bff3ac9dc87');\n",
              "          const dataTable =\n",
              "            await google.colab.kernel.invokeFunction('convertToInteractive',\n",
              "                                                     [key], {});\n",
              "          if (!dataTable) return;\n",
              "\n",
              "          const docLinkHtml = 'Like what you see? Visit the ' +\n",
              "            '<a target=\"_blank\" href=https://colab.research.google.com/notebooks/data_table.ipynb>data table notebook</a>'\n",
              "            + ' to learn more about interactive tables.';\n",
              "          element.innerHTML = '';\n",
              "          dataTable['output_type'] = 'display_data';\n",
              "          await google.colab.output.renderOutput(dataTable, element);\n",
              "          const docLink = document.createElement('div');\n",
              "          docLink.innerHTML = docLinkHtml;\n",
              "          element.appendChild(docLink);\n",
              "        }\n",
              "      </script>\n",
              "    </div>\n",
              "  </div>\n",
              "  "
            ]
          },
          "metadata": {},
          "execution_count": 153
        }
      ]
    },
    {
      "cell_type": "code",
      "source": [
        "df['diabetes'] = df['diabetes'].map({True:1,False:0})"
      ],
      "metadata": {
        "id": "Xrg6ZJrC8Tyw"
      },
      "execution_count": null,
      "outputs": []
    },
    {
      "cell_type": "code",
      "source": [
        "df.describe()"
      ],
      "metadata": {
        "colab": {
          "base_uri": "https://localhost:8080/",
          "height": 300
        },
        "id": "xG9TWFFT8e-2",
        "outputId": "877e3bba-be9e-4d02-8634-2f025e917db3"
      },
      "execution_count": null,
      "outputs": [
        {
          "output_type": "execute_result",
          "data": {
            "text/plain": [
              "         num_preg  glucose_conc  diastolic_bp   thickness     insulin  \\\n",
              "count  768.000000    768.000000    768.000000  768.000000  768.000000   \n",
              "mean     3.845052    121.681605     72.254807   26.606479  118.660163   \n",
              "std      3.369578     30.436016     12.115932    9.631241   93.080358   \n",
              "min      0.000000     44.000000     24.000000    7.000000   14.000000   \n",
              "25%      1.000000     99.750000     64.000000   20.536458   79.799479   \n",
              "50%      3.000000    117.000000     72.000000   23.000000   79.799479   \n",
              "75%      6.000000    140.250000     80.000000   32.000000  127.250000   \n",
              "max     17.000000    199.000000    122.000000   99.000000  846.000000   \n",
              "\n",
              "              bmi   diab_pred         age        skin    diabetes  \n",
              "count  768.000000  768.000000  768.000000  768.000000  768.000000  \n",
              "mean    32.450805    0.471876   33.240885    1.048295    0.348958  \n",
              "std      6.875374    0.331329   11.760232    0.379471    0.476951  \n",
              "min     18.200000    0.078000   21.000000    0.275800    0.000000  \n",
              "25%     27.500000    0.243750   24.000000    0.809136    0.000000  \n",
              "50%     32.000000    0.372500   29.000000    0.906200    0.000000  \n",
              "75%     36.600000    0.626250   41.000000    1.260800    1.000000  \n",
              "max     67.100000    2.420000   81.000000    3.900600    1.000000  "
            ],
            "text/html": [
              "\n",
              "  <div id=\"df-0063db89-bbb7-48df-92cd-706f0998c841\">\n",
              "    <div class=\"colab-df-container\">\n",
              "      <div>\n",
              "<style scoped>\n",
              "    .dataframe tbody tr th:only-of-type {\n",
              "        vertical-align: middle;\n",
              "    }\n",
              "\n",
              "    .dataframe tbody tr th {\n",
              "        vertical-align: top;\n",
              "    }\n",
              "\n",
              "    .dataframe thead th {\n",
              "        text-align: right;\n",
              "    }\n",
              "</style>\n",
              "<table border=\"1\" class=\"dataframe\">\n",
              "  <thead>\n",
              "    <tr style=\"text-align: right;\">\n",
              "      <th></th>\n",
              "      <th>num_preg</th>\n",
              "      <th>glucose_conc</th>\n",
              "      <th>diastolic_bp</th>\n",
              "      <th>thickness</th>\n",
              "      <th>insulin</th>\n",
              "      <th>bmi</th>\n",
              "      <th>diab_pred</th>\n",
              "      <th>age</th>\n",
              "      <th>skin</th>\n",
              "      <th>diabetes</th>\n",
              "    </tr>\n",
              "  </thead>\n",
              "  <tbody>\n",
              "    <tr>\n",
              "      <th>count</th>\n",
              "      <td>768.000000</td>\n",
              "      <td>768.000000</td>\n",
              "      <td>768.000000</td>\n",
              "      <td>768.000000</td>\n",
              "      <td>768.000000</td>\n",
              "      <td>768.000000</td>\n",
              "      <td>768.000000</td>\n",
              "      <td>768.000000</td>\n",
              "      <td>768.000000</td>\n",
              "      <td>768.000000</td>\n",
              "    </tr>\n",
              "    <tr>\n",
              "      <th>mean</th>\n",
              "      <td>3.845052</td>\n",
              "      <td>121.681605</td>\n",
              "      <td>72.254807</td>\n",
              "      <td>26.606479</td>\n",
              "      <td>118.660163</td>\n",
              "      <td>32.450805</td>\n",
              "      <td>0.471876</td>\n",
              "      <td>33.240885</td>\n",
              "      <td>1.048295</td>\n",
              "      <td>0.348958</td>\n",
              "    </tr>\n",
              "    <tr>\n",
              "      <th>std</th>\n",
              "      <td>3.369578</td>\n",
              "      <td>30.436016</td>\n",
              "      <td>12.115932</td>\n",
              "      <td>9.631241</td>\n",
              "      <td>93.080358</td>\n",
              "      <td>6.875374</td>\n",
              "      <td>0.331329</td>\n",
              "      <td>11.760232</td>\n",
              "      <td>0.379471</td>\n",
              "      <td>0.476951</td>\n",
              "    </tr>\n",
              "    <tr>\n",
              "      <th>min</th>\n",
              "      <td>0.000000</td>\n",
              "      <td>44.000000</td>\n",
              "      <td>24.000000</td>\n",
              "      <td>7.000000</td>\n",
              "      <td>14.000000</td>\n",
              "      <td>18.200000</td>\n",
              "      <td>0.078000</td>\n",
              "      <td>21.000000</td>\n",
              "      <td>0.275800</td>\n",
              "      <td>0.000000</td>\n",
              "    </tr>\n",
              "    <tr>\n",
              "      <th>25%</th>\n",
              "      <td>1.000000</td>\n",
              "      <td>99.750000</td>\n",
              "      <td>64.000000</td>\n",
              "      <td>20.536458</td>\n",
              "      <td>79.799479</td>\n",
              "      <td>27.500000</td>\n",
              "      <td>0.243750</td>\n",
              "      <td>24.000000</td>\n",
              "      <td>0.809136</td>\n",
              "      <td>0.000000</td>\n",
              "    </tr>\n",
              "    <tr>\n",
              "      <th>50%</th>\n",
              "      <td>3.000000</td>\n",
              "      <td>117.000000</td>\n",
              "      <td>72.000000</td>\n",
              "      <td>23.000000</td>\n",
              "      <td>79.799479</td>\n",
              "      <td>32.000000</td>\n",
              "      <td>0.372500</td>\n",
              "      <td>29.000000</td>\n",
              "      <td>0.906200</td>\n",
              "      <td>0.000000</td>\n",
              "    </tr>\n",
              "    <tr>\n",
              "      <th>75%</th>\n",
              "      <td>6.000000</td>\n",
              "      <td>140.250000</td>\n",
              "      <td>80.000000</td>\n",
              "      <td>32.000000</td>\n",
              "      <td>127.250000</td>\n",
              "      <td>36.600000</td>\n",
              "      <td>0.626250</td>\n",
              "      <td>41.000000</td>\n",
              "      <td>1.260800</td>\n",
              "      <td>1.000000</td>\n",
              "    </tr>\n",
              "    <tr>\n",
              "      <th>max</th>\n",
              "      <td>17.000000</td>\n",
              "      <td>199.000000</td>\n",
              "      <td>122.000000</td>\n",
              "      <td>99.000000</td>\n",
              "      <td>846.000000</td>\n",
              "      <td>67.100000</td>\n",
              "      <td>2.420000</td>\n",
              "      <td>81.000000</td>\n",
              "      <td>3.900600</td>\n",
              "      <td>1.000000</td>\n",
              "    </tr>\n",
              "  </tbody>\n",
              "</table>\n",
              "</div>\n",
              "      <button class=\"colab-df-convert\" onclick=\"convertToInteractive('df-0063db89-bbb7-48df-92cd-706f0998c841')\"\n",
              "              title=\"Convert this dataframe to an interactive table.\"\n",
              "              style=\"display:none;\">\n",
              "        \n",
              "  <svg xmlns=\"http://www.w3.org/2000/svg\" height=\"24px\"viewBox=\"0 0 24 24\"\n",
              "       width=\"24px\">\n",
              "    <path d=\"M0 0h24v24H0V0z\" fill=\"none\"/>\n",
              "    <path d=\"M18.56 5.44l.94 2.06.94-2.06 2.06-.94-2.06-.94-.94-2.06-.94 2.06-2.06.94zm-11 1L8.5 8.5l.94-2.06 2.06-.94-2.06-.94L8.5 2.5l-.94 2.06-2.06.94zm10 10l.94 2.06.94-2.06 2.06-.94-2.06-.94-.94-2.06-.94 2.06-2.06.94z\"/><path d=\"M17.41 7.96l-1.37-1.37c-.4-.4-.92-.59-1.43-.59-.52 0-1.04.2-1.43.59L10.3 9.45l-7.72 7.72c-.78.78-.78 2.05 0 2.83L4 21.41c.39.39.9.59 1.41.59.51 0 1.02-.2 1.41-.59l7.78-7.78 2.81-2.81c.8-.78.8-2.07 0-2.86zM5.41 20L4 18.59l7.72-7.72 1.47 1.35L5.41 20z\"/>\n",
              "  </svg>\n",
              "      </button>\n",
              "      \n",
              "  <style>\n",
              "    .colab-df-container {\n",
              "      display:flex;\n",
              "      flex-wrap:wrap;\n",
              "      gap: 12px;\n",
              "    }\n",
              "\n",
              "    .colab-df-convert {\n",
              "      background-color: #E8F0FE;\n",
              "      border: none;\n",
              "      border-radius: 50%;\n",
              "      cursor: pointer;\n",
              "      display: none;\n",
              "      fill: #1967D2;\n",
              "      height: 32px;\n",
              "      padding: 0 0 0 0;\n",
              "      width: 32px;\n",
              "    }\n",
              "\n",
              "    .colab-df-convert:hover {\n",
              "      background-color: #E2EBFA;\n",
              "      box-shadow: 0px 1px 2px rgba(60, 64, 67, 0.3), 0px 1px 3px 1px rgba(60, 64, 67, 0.15);\n",
              "      fill: #174EA6;\n",
              "    }\n",
              "\n",
              "    [theme=dark] .colab-df-convert {\n",
              "      background-color: #3B4455;\n",
              "      fill: #D2E3FC;\n",
              "    }\n",
              "\n",
              "    [theme=dark] .colab-df-convert:hover {\n",
              "      background-color: #434B5C;\n",
              "      box-shadow: 0px 1px 3px 1px rgba(0, 0, 0, 0.15);\n",
              "      filter: drop-shadow(0px 1px 2px rgba(0, 0, 0, 0.3));\n",
              "      fill: #FFFFFF;\n",
              "    }\n",
              "  </style>\n",
              "\n",
              "      <script>\n",
              "        const buttonEl =\n",
              "          document.querySelector('#df-0063db89-bbb7-48df-92cd-706f0998c841 button.colab-df-convert');\n",
              "        buttonEl.style.display =\n",
              "          google.colab.kernel.accessAllowed ? 'block' : 'none';\n",
              "\n",
              "        async function convertToInteractive(key) {\n",
              "          const element = document.querySelector('#df-0063db89-bbb7-48df-92cd-706f0998c841');\n",
              "          const dataTable =\n",
              "            await google.colab.kernel.invokeFunction('convertToInteractive',\n",
              "                                                     [key], {});\n",
              "          if (!dataTable) return;\n",
              "\n",
              "          const docLinkHtml = 'Like what you see? Visit the ' +\n",
              "            '<a target=\"_blank\" href=https://colab.research.google.com/notebooks/data_table.ipynb>data table notebook</a>'\n",
              "            + ' to learn more about interactive tables.';\n",
              "          element.innerHTML = '';\n",
              "          dataTable['output_type'] = 'display_data';\n",
              "          await google.colab.output.renderOutput(dataTable, element);\n",
              "          const docLink = document.createElement('div');\n",
              "          docLink.innerHTML = docLinkHtml;\n",
              "          element.appendChild(docLink);\n",
              "        }\n",
              "      </script>\n",
              "    </div>\n",
              "  </div>\n",
              "  "
            ]
          },
          "metadata": {},
          "execution_count": 157
        }
      ]
    },
    {
      "cell_type": "code",
      "source": [
        "df['bmi'] = df['bmi'].replace(0,df['bmi'].mean())\n",
        "df['glucose_conc'] = df['glucose_conc'].replace(0,df['glucose_conc'].mean())\n",
        "df['diastolic_bp'] = df['diastolic_bp'].replace(0,df['diastolic_bp'].mean())\n",
        "df['thickness'] = df['thickness'].replace(0,df['thickness'].mean())\n",
        "df['insulin'] = df['insulin'].replace(0,df['insulin'].mean())\n",
        "df['skin'] = df['skin'].replace(0,df['skin'].mean())"
      ],
      "metadata": {
        "id": "46JK45F3AnA1"
      },
      "execution_count": null,
      "outputs": []
    },
    {
      "cell_type": "code",
      "source": [
        ""
      ],
      "metadata": {
        "id": "__FISDt_Am8j"
      },
      "execution_count": null,
      "outputs": []
    },
    {
      "cell_type": "code",
      "source": [
        "plt.figure(figsize=(15,10))\n",
        "sns.boxplot(data = df)"
      ],
      "metadata": {
        "colab": {
          "base_uri": "https://localhost:8080/",
          "height": 609
        },
        "id": "3_ot3pp68gqY",
        "outputId": "6b590683-a810-4f6b-a8f2-2135abba4dbd"
      },
      "execution_count": null,
      "outputs": [
        {
          "output_type": "execute_result",
          "data": {
            "text/plain": [
              "<matplotlib.axes._subplots.AxesSubplot at 0x7fa779810110>"
            ]
          },
          "metadata": {},
          "execution_count": 158
        },
        {
          "output_type": "display_data",
          "data": {
            "text/plain": [
              "<Figure size 1080x720 with 1 Axes>"
            ],
            "image/png": "[encoded data removed]"
          },
          "metadata": {
            "needs_background": "light"
          }
        }
      ]
    },
    {
      "cell_type": "code",
      "source": [
        "def diagnostic_plot(df,column):\n",
        "    plt.figure(figsize=(16,4))\n",
        "\n",
        "    plt.subplot(1,2,1)\n",
        "    sns.distplot(df[column],bins=30)\n",
        "    plt.title('Histogram')\n",
        "\n",
        "    plt.subplot(1,2,2)\n",
        "    sns.boxplot(df[column])\n",
        "    plt.title('boxplot')\n",
        "\n",
        "    plt.show()\n"
      ],
      "metadata": {
        "id": "lfTqn8YT8kYJ"
      },
      "execution_count": null,
      "outputs": []
    },
    {
      "cell_type": "code",
      "source": [
        "diagnostic_plot(df,'diastolic_bp')"
      ],
      "metadata": {
        "colab": {
          "base_uri": "https://localhost:8080/",
          "height": 385
        },
        "id": "_SV6iN6o_wEH",
        "outputId": "7602b246-0451-4238-c919-ef8f30a60c66"
      },
      "execution_count": null,
      "outputs": [
        {
          "output_type": "stream",
          "name": "stderr",
          "text": [
            "/usr/local/lib/python3.7/dist-packages/seaborn/distributions.py:2619: FutureWarning: `distplot` is a deprecated function and will be removed in a future version. Please adapt your code to use either `displot` (a figure-level function with similar flexibility) or `histplot` (an axes-level function for histograms).\n",
            "  warnings.warn(msg, FutureWarning)\n",
            "/usr/local/lib/python3.7/dist-packages/seaborn/_decorators.py:43: FutureWarning: Pass the following variable as a keyword arg: x. From version 0.12, the only valid positional argument will be `data`, and passing other arguments without an explicit keyword will result in an error or misinterpretation.\n",
            "  FutureWarning\n"
          ]
        },
        {
          "output_type": "display_data",
          "data": {
            "text/plain": [
              "<Figure size 1152x288 with 2 Axes>"
            ],
            "image/png": "[encoded data removed]"
          },
          "metadata": {
            "needs_background": "light"
          }
        }
      ]
    },
    {
      "cell_type": "code",
      "source": [
        "diagnostic_plot(df,'insulin')"
      ],
      "metadata": {
        "id": "5pSeNQx7_1EW",
        "colab": {
          "base_uri": "https://localhost:8080/",
          "height": 384
        },
        "outputId": "03174fdc-287b-4555-b525-36eeb20ca448"
      },
      "execution_count": null,
      "outputs": [
        {
          "output_type": "stream",
          "name": "stderr",
          "text": [
            "/usr/local/lib/python3.7/dist-packages/seaborn/distributions.py:2619: FutureWarning: `distplot` is a deprecated function and will be removed in a future version. Please adapt your code to use either `displot` (a figure-level function with similar flexibility) or `histplot` (an axes-level function for histograms).\n",
            "  warnings.warn(msg, FutureWarning)\n",
            "/usr/local/lib/python3.7/dist-packages/seaborn/_decorators.py:43: FutureWarning: Pass the following variable as a keyword arg: x. From version 0.12, the only valid positional argument will be `data`, and passing other arguments without an explicit keyword will result in an error or misinterpretation.\n",
            "  FutureWarning\n"
          ]
        },
        {
          "output_type": "display_data",
          "data": {
            "text/plain": [
              "<Figure size 1152x288 with 2 Axes>"
            ],
            "image/png": "[encoded data removed]"
          },
          "metadata": {
            "needs_background": "light"
          }
        }
      ]
    },
    {
      "cell_type": "markdown",
      "source": [
        "**Outlier Capping with IQR**"
      ],
      "metadata": {
        "id": "zLVRtugpWWKc"
      }
    },
    {
      "cell_type": "code",
      "source": [
        "# Function to find lower and upper limit of an skewed outlier feature\n",
        "def find_outliers(df,column,distance):\n",
        "    q1 = df[column].quantile(0.25)\n",
        "    q3 = df[column].quantile(0.75)\n",
        "\n",
        "    iqr = q3-q1\n",
        "    lower_bowndary = q1 - (iqr*distance)\n",
        "    upper_bowndary = q1 + (iqr*distance)\n",
        "\n",
        "    return lower_bowndary,upper_bowndary"
      ],
      "metadata": {
        "id": "vVk-wUT7CGTn"
      },
      "execution_count": null,
      "outputs": []
    },
    {
      "cell_type": "code",
      "source": [
        "# find limits for Insulin column\n",
        "lower_limit, upper_limit =find_outliers(df,'insulin',1.5)\n",
        "lower_limit, upper_limit\n",
        "# for extreme region take distance = 3"
      ],
      "metadata": {
        "colab": {
          "base_uri": "https://localhost:8080/"
        },
        "id": "2-rIRuCRE5ki",
        "outputId": "f45068d2-bac1-4eb5-98a2-c78e060bd5f4"
      },
      "execution_count": null,
      "outputs": [
        {
          "output_type": "execute_result",
          "data": {
            "text/plain": [
              "(8.623697916666671, 150.97526041666669)"
            ]
          },
          "metadata": {},
          "execution_count": 65
        }
      ]
    },
    {
      "cell_type": "code",
      "source": [
        "# find limits for diastolic_bp column\n",
        "lower_limit, upper_limit =find_skewed(df,'diastolic_bp',1.5)\n",
        "lower_limit, upper_limit"
      ],
      "metadata": {
        "id": "dCCwad8PWq2Y"
      },
      "execution_count": null,
      "outputs": []
    },
    {
      "cell_type": "code",
      "source": [
        "df.columns"
      ],
      "metadata": {
        "colab": {
          "base_uri": "https://localhost:8080/"
        },
        "id": "RaskJwtKKDaF",
        "outputId": "ae8d6cf5-7035-42f6-8ddc-fccc315dc94c"
      },
      "execution_count": null,
      "outputs": [
        {
          "output_type": "execute_result",
          "data": {
            "text/plain": [
              "Index(['num_preg', 'glucose_conc', 'diastolic_bp', 'thickness', 'insulin',\n",
              "       'bmi', 'diab_pred', 'age', 'skin', 'diabetes'],\n",
              "      dtype='object')"
            ]
          },
          "metadata": {},
          "execution_count": 71
        }
      ]
    },
    {
      "cell_type": "markdown",
      "source": [
        "**Capping Outlier**\n",
        "\n",
        "Below funtion will remove outlier for entire Data Frame"
      ],
      "metadata": {
        "id": "LNAP6H3pVDgo"
      }
    },
    {
      "cell_type": "code",
      "source": [
        "# capping  outlier for entire df in single shot\n",
        "columns = ['num_preg', 'glucose_conc', 'diastolic_bp', 'thickness', 'insulin',\n",
        "       'bmi', 'diab_pred', 'age', 'skin']\n",
        "for i in columns:\n",
        "    q1 = df[i].quantile(0.25)\n",
        "    q3 = df[i].quantile(0.75)\n",
        "\n",
        "    iqr = q3-q1\n",
        "    lower_bowndary = q1 - (iqr * 1.5)\n",
        "    upper_bowndary = q1 + (iqr * 1.5)\n",
        "    df[i] = np.where(df[i] > upper_bowndary,upper_bowndary, df[i] )\n",
        "    df[i] = np.where(df[i] < lower_bowndary,lower_bowndary, df[i] )\n",
        "\n",
        "\n"
      ],
      "metadata": {
        "id": "wZ2WUZXxH6GH"
      },
      "execution_count": null,
      "outputs": []
    },
    {
      "cell_type": "code",
      "source": [
        "# df.loc[df['Age'] >= 70,'Age'] = 70"
      ],
      "metadata": {
        "id": "nvO5DPXdLDD1"
      },
      "execution_count": null,
      "outputs": []
    },
    {
      "cell_type": "markdown",
      "source": [
        "# Trimming the outliers"
      ],
      "metadata": {
        "id": "AZQHbT2oecJY"
      }
    },
    {
      "cell_type": "markdown",
      "source": [
        "First Get the boundaries value"
      ],
      "metadata": {
        "id": "ecdydG_jejmS"
      }
    },
    {
      "cell_type": "code",
      "source": [
        "def trim_outlier(df,col):\n",
        "    q1 = df[col].quantile(0.25)\n",
        "    q3 = df[col].quantile(0.25)\n",
        "    IQR = q3 - q1\n",
        "    upper_boundaries = q3 + ( IQR *1.5)\n",
        "    lower_boundaries = q1 - ( IQR *1.5)\n",
        "\n",
        "    ls = df.index[ (df[col] < lower_boundaries) | (df[col] > upper_boundaries) ]\n",
        "    return ls"
      ],
      "metadata": {
        "id": "jUeWwp1KeZ9z"
      },
      "execution_count": null,
      "outputs": []
    },
    {
      "cell_type": "markdown",
      "source": [
        "create an empty list to store all the outlier indexex"
      ],
      "metadata": {
        "id": "tOMpO302gkMA"
      }
    },
    {
      "cell_type": "code",
      "source": [
        "# Store all the index value in index list\n",
        "index_list = []\n",
        "\n",
        "for feature in ['num_preg', 'glucose_conc', 'diastolic_bp', 'thickness', 'insulin','bmi', 'diab_pred', 'age', 'skin']:\n",
        "    index_list.extend(trim_outlier(df,feature))"
      ],
      "metadata": {
        "id": "gjZv0x4igZ-u"
      },
      "execution_count": null,
      "outputs": []
    },
    {
      "cell_type": "code",
      "source": [
        "trim_outlier(df,'glucose_conc')"
      ],
      "metadata": {
        "colab": {
          "base_uri": "https://localhost:8080/"
        },
        "id": "qVRvihqRjqxB",
        "outputId": "5844a500-85cf-4850-b869-1d1f665e4ce6"
      },
      "execution_count": null,
      "outputs": [
        {
          "output_type": "execute_result",
          "data": {
            "text/plain": [
              "Int64Index([  0,   1,   2,   3,   4,   5,   6,   7,   8,   9,\n",
              "            ...\n",
              "            758, 759, 760, 761, 762, 763, 764, 765, 766, 767],\n",
              "           dtype='int64', length=751)"
            ]
          },
          "metadata": {},
          "execution_count": 111
        }
      ]
    },
    {
      "cell_type": "code",
      "source": [
        "print(len(set(index_list)))"
      ],
      "metadata": {
        "colab": {
          "base_uri": "https://localhost:8080/"
        },
        "id": "z7PE5puFj1Lz",
        "outputId": "622583f5-9013-4911-b74b-da5e4be9abbb"
      },
      "execution_count": null,
      "outputs": [
        {
          "output_type": "stream",
          "name": "stdout",
          "text": [
            "768\n"
          ]
        }
      ]
    },
    {
      "cell_type": "markdown",
      "source": [
        "Now drop all the rows from data Frame"
      ],
      "metadata": {
        "id": "ES1GaP51hb8D"
      }
    },
    {
      "cell_type": "code",
      "source": [
        "df.drop(set(index_list))"
      ],
      "metadata": {
        "id": "J8p2jvBHhfd0"
      },
      "execution_count": null,
      "outputs": []
    },
    {
      "cell_type": "code",
      "source": [
        "df.shape"
      ],
      "metadata": {
        "colab": {
          "base_uri": "https://localhost:8080/"
        },
        "id": "y74ubbSij-0f",
        "outputId": "809c00be-059e-498f-99d4-29d7fefe568c"
      },
      "execution_count": null,
      "outputs": [
        {
          "output_type": "execute_result",
          "data": {
            "text/plain": [
              "(768, 10)"
            ]
          },
          "metadata": {},
          "execution_count": 106
        }
      ]
    },
    {
      "cell_type": "code",
      "source": [
        "\n",
        "def iqr_outlier(df,features):\n",
        "    q1 = df[features].quantile(0.25)\n",
        "    q3 = df[features].quantile(0.75)\n",
        "    iqr = q3-q1\n",
        "    lower_fence = q1-(1.5*iqr)\n",
        "    upper_fence = q1+(1.5*iqr)\n",
        "    ls = df.index[(df[features] < lower_fence) | (df[features] > upper_fence)]\n",
        "    return ls "
      ],
      "metadata": {
        "id": "LM7uRrCFkAQO"
      },
      "execution_count": null,
      "outputs": []
    },
    {
      "cell_type": "code",
      "source": [
        "v = []\n",
        "for i in ['num_preg', 'glucose_conc', 'diastolic_bp', 'thickness', 'insulin','bmi', 'diab_pred', 'age', 'skin']:\n",
        "    c = iqr_outlier(df,'insulin')\n",
        "    for i in c:\n",
        "        v.append(i)\n"
      ],
      "metadata": {
        "id": "FsPLnGe920Pf"
      },
      "execution_count": null,
      "outputs": []
    },
    {
      "cell_type": "code",
      "source": [
        "zz = sorted(set(v))\n",
        "len(zz)"
      ],
      "metadata": {
        "colab": {
          "base_uri": "https://localhost:8080/"
        },
        "id": "3EAfs__W4fZ4",
        "outputId": "e48a495f-a6bc-41bc-b9fa-204fefc7a606"
      },
      "execution_count": null,
      "outputs": [
        {
          "output_type": "execute_result",
          "data": {
            "text/plain": [
              "447"
            ]
          },
          "metadata": {},
          "execution_count": 243
        }
      ]
    },
    {
      "cell_type": "code",
      "source": [
        "df = df.drop(zz)"
      ],
      "metadata": {
        "id": "4-8GjFZR45W6"
      },
      "execution_count": null,
      "outputs": []
    },
    {
      "cell_type": "code",
      "source": [
        "sns.boxplot(data=df)"
      ],
      "metadata": {
        "colab": {
          "base_uri": "https://localhost:8080/",
          "height": 283
        },
        "id": "CSDLCJOf5I24",
        "outputId": "3d9a3317-f104-4686-acfe-4e4c264a02bf"
      },
      "execution_count": null,
      "outputs": [
        {
          "output_type": "execute_result",
          "data": {
            "text/plain": [
              "<matplotlib.axes._subplots.AxesSubplot at 0x7fa779a38a90>"
            ]
          },
          "metadata": {},
          "execution_count": 245
        },
        {
          "output_type": "display_data",
          "data": {
            "text/plain": [
              "<Figure size 432x288 with 1 Axes>"
            ],
            "image/png": "[encoded data removed]"
          },
          "metadata": {
            "needs_background": "light"
          }
        }
      ]
    },
    {
      "cell_type": "markdown",
      "source": [
        "# Diabetec Data set"
      ],
      "metadata": {
        "id": "ejngB_TL-RiN"
      }
    },
    {
      "cell_type": "code",
      "source": [
        "df = pd.read_csv('/content/diabetes.csv')"
      ],
      "metadata": {
        "id": "klLBTQOE-RF7"
      },
      "execution_count": 201,
      "outputs": []
    },
    {
      "cell_type": "code",
      "source": [
        "df.head()"
      ],
      "metadata": {
        "id": "xXRtidBC5Mq1",
        "colab": {
          "base_uri": "https://localhost:8080/",
          "height": 206
        },
        "outputId": "eb29eacf-0776-4bc0-cbeb-2b45ddebe152"
      },
      "execution_count": 168,
      "outputs": [
        {
          "output_type": "execute_result",
          "data": {
            "text/plain": [
              "   Pregnancies  Glucose  BloodPressure  SkinThickness  Insulin   BMI  \\\n",
              "0            6      148             72             35        0  33.6   \n",
              "1            1       85             66             29        0  26.6   \n",
              "2            8      183             64              0        0  23.3   \n",
              "3            1       89             66             23       94  28.1   \n",
              "4            0      137             40             35      168  43.1   \n",
              "\n",
              "   DiabetesPedigreeFunction  Age  Outcome  \n",
              "0                     0.627   50        1  \n",
              "1                     0.351   31        0  \n",
              "2                     0.672   32        1  \n",
              "3                     0.167   21        0  \n",
              "4                     2.288   33        1  "
            ],
            "text/html": [
              "\n",
              "  <div id=\"df-9497a532-3aee-4f58-adb3-8b72f2959cd4\">\n",
              "    <div class=\"colab-df-container\">\n",
              "      <div>\n",
              "<style scoped>\n",
              "    .dataframe tbody tr th:only-of-type {\n",
              "        vertical-align: middle;\n",
              "    }\n",
              "\n",
              "    .dataframe tbody tr th {\n",
              "        vertical-align: top;\n",
              "    }\n",
              "\n",
              "    .dataframe thead th {\n",
              "        text-align: right;\n",
              "    }\n",
              "</style>\n",
              "<table border=\"1\" class=\"dataframe\">\n",
              "  <thead>\n",
              "    <tr style=\"text-align: right;\">\n",
              "      <th></th>\n",
              "      <th>Pregnancies</th>\n",
              "      <th>Glucose</th>\n",
              "      <th>BloodPressure</th>\n",
              "      <th>SkinThickness</th>\n",
              "      <th>Insulin</th>\n",
              "      <th>BMI</th>\n",
              "      <th>DiabetesPedigreeFunction</th>\n",
              "      <th>Age</th>\n",
              "      <th>Outcome</th>\n",
              "    </tr>\n",
              "  </thead>\n",
              "  <tbody>\n",
              "    <tr>\n",
              "      <th>0</th>\n",
              "      <td>6</td>\n",
              "      <td>148</td>\n",
              "      <td>72</td>\n",
              "      <td>35</td>\n",
              "      <td>0</td>\n",
              "      <td>33.6</td>\n",
              "      <td>0.627</td>\n",
              "      <td>50</td>\n",
              "      <td>1</td>\n",
              "    </tr>\n",
              "    <tr>\n",
              "      <th>1</th>\n",
              "      <td>1</td>\n",
              "      <td>85</td>\n",
              "      <td>66</td>\n",
              "      <td>29</td>\n",
              "      <td>0</td>\n",
              "      <td>26.6</td>\n",
              "      <td>0.351</td>\n",
              "      <td>31</td>\n",
              "      <td>0</td>\n",
              "    </tr>\n",
              "    <tr>\n",
              "      <th>2</th>\n",
              "      <td>8</td>\n",
              "      <td>183</td>\n",
              "      <td>64</td>\n",
              "      <td>0</td>\n",
              "      <td>0</td>\n",
              "      <td>23.3</td>\n",
              "      <td>0.672</td>\n",
              "      <td>32</td>\n",
              "      <td>1</td>\n",
              "    </tr>\n",
              "    <tr>\n",
              "      <th>3</th>\n",
              "      <td>1</td>\n",
              "      <td>89</td>\n",
              "      <td>66</td>\n",
              "      <td>23</td>\n",
              "      <td>94</td>\n",
              "      <td>28.1</td>\n",
              "      <td>0.167</td>\n",
              "      <td>21</td>\n",
              "      <td>0</td>\n",
              "    </tr>\n",
              "    <tr>\n",
              "      <th>4</th>\n",
              "      <td>0</td>\n",
              "      <td>137</td>\n",
              "      <td>40</td>\n",
              "      <td>35</td>\n",
              "      <td>168</td>\n",
              "      <td>43.1</td>\n",
              "      <td>2.288</td>\n",
              "      <td>33</td>\n",
              "      <td>1</td>\n",
              "    </tr>\n",
              "  </tbody>\n",
              "</table>\n",
              "</div>\n",
              "      <button class=\"colab-df-convert\" onclick=\"convertToInteractive('df-9497a532-3aee-4f58-adb3-8b72f2959cd4')\"\n",
              "              title=\"Convert this dataframe to an interactive table.\"\n",
              "              style=\"display:none;\">\n",
              "        \n",
              "  <svg xmlns=\"http://www.w3.org/2000/svg\" height=\"24px\"viewBox=\"0 0 24 24\"\n",
              "       width=\"24px\">\n",
              "    <path d=\"M0 0h24v24H0V0z\" fill=\"none\"/>\n",
              "    <path d=\"M18.56 5.44l.94 2.06.94-2.06 2.06-.94-2.06-.94-.94-2.06-.94 2.06-2.06.94zm-11 1L8.5 8.5l.94-2.06 2.06-.94-2.06-.94L8.5 2.5l-.94 2.06-2.06.94zm10 10l.94 2.06.94-2.06 2.06-.94-2.06-.94-.94-2.06-.94 2.06-2.06.94z\"/><path d=\"M17.41 7.96l-1.37-1.37c-.4-.4-.92-.59-1.43-.59-.52 0-1.04.2-1.43.59L10.3 9.45l-7.72 7.72c-.78.78-.78 2.05 0 2.83L4 21.41c.39.39.9.59 1.41.59.51 0 1.02-.2 1.41-.59l7.78-7.78 2.81-2.81c.8-.78.8-2.07 0-2.86zM5.41 20L4 18.59l7.72-7.72 1.47 1.35L5.41 20z\"/>\n",
              "  </svg>\n",
              "      </button>\n",
              "      \n",
              "  <style>\n",
              "    .colab-df-container {\n",
              "      display:flex;\n",
              "      flex-wrap:wrap;\n",
              "      gap: 12px;\n",
              "    }\n",
              "\n",
              "    .colab-df-convert {\n",
              "      background-color: #E8F0FE;\n",
              "      border: none;\n",
              "      border-radius: 50%;\n",
              "      cursor: pointer;\n",
              "      display: none;\n",
              "      fill: #1967D2;\n",
              "      height: 32px;\n",
              "      padding: 0 0 0 0;\n",
              "      width: 32px;\n",
              "    }\n",
              "\n",
              "    .colab-df-convert:hover {\n",
              "      background-color: #E2EBFA;\n",
              "      box-shadow: 0px 1px 2px rgba(60, 64, 67, 0.3), 0px 1px 3px 1px rgba(60, 64, 67, 0.15);\n",
              "      fill: #174EA6;\n",
              "    }\n",
              "\n",
              "    [theme=dark] .colab-df-convert {\n",
              "      background-color: #3B4455;\n",
              "      fill: #D2E3FC;\n",
              "    }\n",
              "\n",
              "    [theme=dark] .colab-df-convert:hover {\n",
              "      background-color: #434B5C;\n",
              "      box-shadow: 0px 1px 3px 1px rgba(0, 0, 0, 0.15);\n",
              "      filter: drop-shadow(0px 1px 2px rgba(0, 0, 0, 0.3));\n",
              "      fill: #FFFFFF;\n",
              "    }\n",
              "  </style>\n",
              "\n",
              "      <script>\n",
              "        const buttonEl =\n",
              "          document.querySelector('#df-9497a532-3aee-4f58-adb3-8b72f2959cd4 button.colab-df-convert');\n",
              "        buttonEl.style.display =\n",
              "          google.colab.kernel.accessAllowed ? 'block' : 'none';\n",
              "\n",
              "        async function convertToInteractive(key) {\n",
              "          const element = document.querySelector('#df-9497a532-3aee-4f58-adb3-8b72f2959cd4');\n",
              "          const dataTable =\n",
              "            await google.colab.kernel.invokeFunction('convertToInteractive',\n",
              "                                                     [key], {});\n",
              "          if (!dataTable) return;\n",
              "\n",
              "          const docLinkHtml = 'Like what you see? Visit the ' +\n",
              "            '<a target=\"_blank\" href=https://colab.research.google.com/notebooks/data_table.ipynb>data table notebook</a>'\n",
              "            + ' to learn more about interactive tables.';\n",
              "          element.innerHTML = '';\n",
              "          dataTable['output_type'] = 'display_data';\n",
              "          await google.colab.output.renderOutput(dataTable, element);\n",
              "          const docLink = document.createElement('div');\n",
              "          docLink.innerHTML = docLinkHtml;\n",
              "          element.appendChild(docLink);\n",
              "        }\n",
              "      </script>\n",
              "    </div>\n",
              "  </div>\n",
              "  "
            ]
          },
          "metadata": {},
          "execution_count": 168
        }
      ]
    },
    {
      "cell_type": "code",
      "source": [
        "df.shape"
      ],
      "metadata": {
        "colab": {
          "base_uri": "https://localhost:8080/"
        },
        "id": "iMV0HlAj-g0d",
        "outputId": "1882d982-2dd5-41d1-b59c-ba22518015d7"
      },
      "execution_count": 185,
      "outputs": [
        {
          "output_type": "execute_result",
          "data": {
            "text/plain": [
              "(768, 9)"
            ]
          },
          "metadata": {},
          "execution_count": 185
        }
      ]
    },
    {
      "cell_type": "code",
      "source": [
        "df.describe()"
      ],
      "metadata": {
        "colab": {
          "base_uri": "https://localhost:8080/",
          "height": 300
        },
        "id": "LFyr6f7O-l_a",
        "outputId": "58890cc1-f065-464d-c84e-b37b0ef408d4"
      },
      "execution_count": 7,
      "outputs": [
        {
          "output_type": "execute_result",
          "data": {
            "text/plain": [
              "       Pregnancies     Glucose  BloodPressure  SkinThickness     Insulin  \\\n",
              "count   768.000000  768.000000     768.000000     768.000000  768.000000   \n",
              "mean      3.845052  120.894531      69.105469      20.536458   79.799479   \n",
              "std       3.369578   31.972618      19.355807      15.952218  115.244002   \n",
              "min       0.000000    0.000000       0.000000       0.000000    0.000000   \n",
              "25%       1.000000   99.000000      62.000000       0.000000    0.000000   \n",
              "50%       3.000000  117.000000      72.000000      23.000000   30.500000   \n",
              "75%       6.000000  140.250000      80.000000      32.000000  127.250000   \n",
              "max      17.000000  199.000000     122.000000      99.000000  846.000000   \n",
              "\n",
              "              BMI  DiabetesPedigreeFunction         Age     Outcome  \n",
              "count  768.000000                768.000000  768.000000  768.000000  \n",
              "mean    31.992578                  0.471876   33.240885    0.348958  \n",
              "std      7.884160                  0.331329   11.760232    0.476951  \n",
              "min      0.000000                  0.078000   21.000000    0.000000  \n",
              "25%     27.300000                  0.243750   24.000000    0.000000  \n",
              "50%     32.000000                  0.372500   29.000000    0.000000  \n",
              "75%     36.600000                  0.626250   41.000000    1.000000  \n",
              "max     67.100000                  2.420000   81.000000    1.000000  "
            ],
            "text/html": [
              "\n",
              "  <div id=\"df-335e837e-80d5-42b8-af3f-c0baaa9f9a85\">\n",
              "    <div class=\"colab-df-container\">\n",
              "      <div>\n",
              "<style scoped>\n",
              "    .dataframe tbody tr th:only-of-type {\n",
              "        vertical-align: middle;\n",
              "    }\n",
              "\n",
              "    .dataframe tbody tr th {\n",
              "        vertical-align: top;\n",
              "    }\n",
              "\n",
              "    .dataframe thead th {\n",
              "        text-align: right;\n",
              "    }\n",
              "</style>\n",
              "<table border=\"1\" class=\"dataframe\">\n",
              "  <thead>\n",
              "    <tr style=\"text-align: right;\">\n",
              "      <th></th>\n",
              "      <th>Pregnancies</th>\n",
              "      <th>Glucose</th>\n",
              "      <th>BloodPressure</th>\n",
              "      <th>SkinThickness</th>\n",
              "      <th>Insulin</th>\n",
              "      <th>BMI</th>\n",
              "      <th>DiabetesPedigreeFunction</th>\n",
              "      <th>Age</th>\n",
              "      <th>Outcome</th>\n",
              "    </tr>\n",
              "  </thead>\n",
              "  <tbody>\n",
              "    <tr>\n",
              "      <th>count</th>\n",
              "      <td>768.000000</td>\n",
              "      <td>768.000000</td>\n",
              "      <td>768.000000</td>\n",
              "      <td>768.000000</td>\n",
              "      <td>768.000000</td>\n",
              "      <td>768.000000</td>\n",
              "      <td>768.000000</td>\n",
              "      <td>768.000000</td>\n",
              "      <td>768.000000</td>\n",
              "    </tr>\n",
              "    <tr>\n",
              "      <th>mean</th>\n",
              "      <td>3.845052</td>\n",
              "      <td>120.894531</td>\n",
              "      <td>69.105469</td>\n",
              "      <td>20.536458</td>\n",
              "      <td>79.799479</td>\n",
              "      <td>31.992578</td>\n",
              "      <td>0.471876</td>\n",
              "      <td>33.240885</td>\n",
              "      <td>0.348958</td>\n",
              "    </tr>\n",
              "    <tr>\n",
              "      <th>std</th>\n",
              "      <td>3.369578</td>\n",
              "      <td>31.972618</td>\n",
              "      <td>19.355807</td>\n",
              "      <td>15.952218</td>\n",
              "      <td>115.244002</td>\n",
              "      <td>7.884160</td>\n",
              "      <td>0.331329</td>\n",
              "      <td>11.760232</td>\n",
              "      <td>0.476951</td>\n",
              "    </tr>\n",
              "    <tr>\n",
              "      <th>min</th>\n",
              "      <td>0.000000</td>\n",
              "      <td>0.000000</td>\n",
              "      <td>0.000000</td>\n",
              "      <td>0.000000</td>\n",
              "      <td>0.000000</td>\n",
              "      <td>0.000000</td>\n",
              "      <td>0.078000</td>\n",
              "      <td>21.000000</td>\n",
              "      <td>0.000000</td>\n",
              "    </tr>\n",
              "    <tr>\n",
              "      <th>25%</th>\n",
              "      <td>1.000000</td>\n",
              "      <td>99.000000</td>\n",
              "      <td>62.000000</td>\n",
              "      <td>0.000000</td>\n",
              "      <td>0.000000</td>\n",
              "      <td>27.300000</td>\n",
              "      <td>0.243750</td>\n",
              "      <td>24.000000</td>\n",
              "      <td>0.000000</td>\n",
              "    </tr>\n",
              "    <tr>\n",
              "      <th>50%</th>\n",
              "      <td>3.000000</td>\n",
              "      <td>117.000000</td>\n",
              "      <td>72.000000</td>\n",
              "      <td>23.000000</td>\n",
              "      <td>30.500000</td>\n",
              "      <td>32.000000</td>\n",
              "      <td>0.372500</td>\n",
              "      <td>29.000000</td>\n",
              "      <td>0.000000</td>\n",
              "    </tr>\n",
              "    <tr>\n",
              "      <th>75%</th>\n",
              "      <td>6.000000</td>\n",
              "      <td>140.250000</td>\n",
              "      <td>80.000000</td>\n",
              "      <td>32.000000</td>\n",
              "      <td>127.250000</td>\n",
              "      <td>36.600000</td>\n",
              "      <td>0.626250</td>\n",
              "      <td>41.000000</td>\n",
              "      <td>1.000000</td>\n",
              "    </tr>\n",
              "    <tr>\n",
              "      <th>max</th>\n",
              "      <td>17.000000</td>\n",
              "      <td>199.000000</td>\n",
              "      <td>122.000000</td>\n",
              "      <td>99.000000</td>\n",
              "      <td>846.000000</td>\n",
              "      <td>67.100000</td>\n",
              "      <td>2.420000</td>\n",
              "      <td>81.000000</td>\n",
              "      <td>1.000000</td>\n",
              "    </tr>\n",
              "  </tbody>\n",
              "</table>\n",
              "</div>\n",
              "      <button class=\"colab-df-convert\" onclick=\"convertToInteractive('df-335e837e-80d5-42b8-af3f-c0baaa9f9a85')\"\n",
              "              title=\"Convert this dataframe to an interactive table.\"\n",
              "              style=\"display:none;\">\n",
              "        \n",
              "  <svg xmlns=\"http://www.w3.org/2000/svg\" height=\"24px\"viewBox=\"0 0 24 24\"\n",
              "       width=\"24px\">\n",
              "    <path d=\"M0 0h24v24H0V0z\" fill=\"none\"/>\n",
              "    <path d=\"M18.56 5.44l.94 2.06.94-2.06 2.06-.94-2.06-.94-.94-2.06-.94 2.06-2.06.94zm-11 1L8.5 8.5l.94-2.06 2.06-.94-2.06-.94L8.5 2.5l-.94 2.06-2.06.94zm10 10l.94 2.06.94-2.06 2.06-.94-2.06-.94-.94-2.06-.94 2.06-2.06.94z\"/><path d=\"M17.41 7.96l-1.37-1.37c-.4-.4-.92-.59-1.43-.59-.52 0-1.04.2-1.43.59L10.3 9.45l-7.72 7.72c-.78.78-.78 2.05 0 2.83L4 21.41c.39.39.9.59 1.41.59.51 0 1.02-.2 1.41-.59l7.78-7.78 2.81-2.81c.8-.78.8-2.07 0-2.86zM5.41 20L4 18.59l7.72-7.72 1.47 1.35L5.41 20z\"/>\n",
              "  </svg>\n",
              "      </button>\n",
              "      \n",
              "  <style>\n",
              "    .colab-df-container {\n",
              "      display:flex;\n",
              "      flex-wrap:wrap;\n",
              "      gap: 12px;\n",
              "    }\n",
              "\n",
              "    .colab-df-convert {\n",
              "      background-color: #E8F0FE;\n",
              "      border: none;\n",
              "      border-radius: 50%;\n",
              "      cursor: pointer;\n",
              "      display: none;\n",
              "      fill: #1967D2;\n",
              "      height: 32px;\n",
              "      padding: 0 0 0 0;\n",
              "      width: 32px;\n",
              "    }\n",
              "\n",
              "    .colab-df-convert:hover {\n",
              "      background-color: #E2EBFA;\n",
              "      box-shadow: 0px 1px 2px rgba(60, 64, 67, 0.3), 0px 1px 3px 1px rgba(60, 64, 67, 0.15);\n",
              "      fill: #174EA6;\n",
              "    }\n",
              "\n",
              "    [theme=dark] .colab-df-convert {\n",
              "      background-color: #3B4455;\n",
              "      fill: #D2E3FC;\n",
              "    }\n",
              "\n",
              "    [theme=dark] .colab-df-convert:hover {\n",
              "      background-color: #434B5C;\n",
              "      box-shadow: 0px 1px 3px 1px rgba(0, 0, 0, 0.15);\n",
              "      filter: drop-shadow(0px 1px 2px rgba(0, 0, 0, 0.3));\n",
              "      fill: #FFFFFF;\n",
              "    }\n",
              "  </style>\n",
              "\n",
              "      <script>\n",
              "        const buttonEl =\n",
              "          document.querySelector('#df-335e837e-80d5-42b8-af3f-c0baaa9f9a85 button.colab-df-convert');\n",
              "        buttonEl.style.display =\n",
              "          google.colab.kernel.accessAllowed ? 'block' : 'none';\n",
              "\n",
              "        async function convertToInteractive(key) {\n",
              "          const element = document.querySelector('#df-335e837e-80d5-42b8-af3f-c0baaa9f9a85');\n",
              "          const dataTable =\n",
              "            await google.colab.kernel.invokeFunction('convertToInteractive',\n",
              "                                                     [key], {});\n",
              "          if (!dataTable) return;\n",
              "\n",
              "          const docLinkHtml = 'Like what you see? Visit the ' +\n",
              "            '<a target=\"_blank\" href=https://colab.research.google.com/notebooks/data_table.ipynb>data table notebook</a>'\n",
              "            + ' to learn more about interactive tables.';\n",
              "          element.innerHTML = '';\n",
              "          dataTable['output_type'] = 'display_data';\n",
              "          await google.colab.output.renderOutput(dataTable, element);\n",
              "          const docLink = document.createElement('div');\n",
              "          docLink.innerHTML = docLinkHtml;\n",
              "          element.appendChild(docLink);\n",
              "        }\n",
              "      </script>\n",
              "    </div>\n",
              "  </div>\n",
              "  "
            ]
          },
          "metadata": {},
          "execution_count": 7
        }
      ]
    },
    {
      "cell_type": "code",
      "source": [
        "# There are lot of 0 value theat need to be imputed.\n",
        "df['Pregnancies'] = df['Pregnancies'].replace(0,df['Pregnancies'].mean())\n",
        "df['Glucose'] = df['Glucose'].replace(0,df['Glucose'].mean())\n",
        "df['BloodPressure'] = df['BloodPressure'].replace(0,df['BloodPressure'].mean())\n",
        "df['SkinThickness'] = df['SkinThickness'].replace(0,df['SkinThickness'].mean())\n",
        "df['Insulin'] = df['Insulin'].replace(0,df['Insulin'].mean())\n",
        "df['BMI'] = df['BMI'].replace(0,df['BMI'].mean())\n"
      ],
      "metadata": {
        "id": "pmg1gKtm-oKA"
      },
      "execution_count": 186,
      "outputs": []
    },
    {
      "cell_type": "code",
      "source": [
        "sns.boxplot(y='Pregnancies',x='Outcome',data=df)"
      ],
      "metadata": {
        "colab": {
          "base_uri": "https://localhost:8080/",
          "height": 296
        },
        "id": "pIoIzMjJBIKs",
        "outputId": "500a75a9-91c5-4771-d96f-4c612ac03f17"
      },
      "execution_count": 14,
      "outputs": [
        {
          "output_type": "execute_result",
          "data": {
            "text/plain": [
              "<matplotlib.axes._subplots.AxesSubplot at 0x7f45cfb9f810>"
            ]
          },
          "metadata": {},
          "execution_count": 14
        },
        {
          "output_type": "display_data",
          "data": {
            "text/plain": [
              "<Figure size 432x288 with 1 Axes>"
            ],
            "image/png": "[encoded data removed]"
          },
          "metadata": {
            "needs_background": "light"
          }
        }
      ]
    },
    {
      "cell_type": "code",
      "source": [
        "sns.histplot(df['Pregnancies'])"
      ],
      "metadata": {
        "colab": {
          "base_uri": "https://localhost:8080/",
          "height": 296
        },
        "id": "oTlrIlANBQ4O",
        "outputId": "167f2e54-080c-4a70-f9cf-066f3fbf03c8"
      },
      "execution_count": 15,
      "outputs": [
        {
          "output_type": "execute_result",
          "data": {
            "text/plain": [
              "<matplotlib.axes._subplots.AxesSubplot at 0x7f45cd305850>"
            ]
          },
          "metadata": {},
          "execution_count": 15
        },
        {
          "output_type": "display_data",
          "data": {
            "text/plain": [
              "<Figure size 432x288 with 1 Axes>"
            ],
            "image/png": "[encoded data removed]"
          },
          "metadata": {
            "needs_background": "light"
          }
        }
      ]
    },
    {
      "cell_type": "code",
      "source": [
        "# Dividing dataset into Independent and Dependent columns\n",
        "x = df.drop(columns='Outcome',axis=1)\n",
        "y=df['Outcome']"
      ],
      "metadata": {
        "id": "e85Fz06dDE7A"
      },
      "execution_count": 28,
      "outputs": []
    },
    {
      "cell_type": "code",
      "source": [
        "# changing name of columns to small\n",
        "df.columns = df.columns.str.lower()"
      ],
      "metadata": {
        "id": "RKd2t71xDTXV"
      },
      "execution_count": 187,
      "outputs": []
    },
    {
      "cell_type": "code",
      "source": [
        "plt.figure(figsize=(15,7))\n",
        "sns.boxplot(data=x)"
      ],
      "metadata": {
        "colab": {
          "base_uri": "https://localhost:8080/",
          "height": 445
        },
        "id": "f7Y9MDO8DrAX",
        "outputId": "24c02499-223d-43c9-c707-208b31794aa5"
      },
      "execution_count": 37,
      "outputs": [
        {
          "output_type": "execute_result",
          "data": {
            "text/plain": [
              "<matplotlib.axes._subplots.AxesSubplot at 0x7f45ccabf790>"
            ]
          },
          "metadata": {},
          "execution_count": 37
        },
        {
          "output_type": "display_data",
          "data": {
            "text/plain": [
              "<Figure size 1080x504 with 1 Axes>"
            ],
            "image/png": "[encoded data removed]"
          },
          "metadata": {
            "needs_background": "light"
          }
        }
      ]
    },
    {
      "cell_type": "code",
      "source": [
        "\n",
        "def get_outlier_index(df,col,distance):\n",
        "        q1 = df[col].quantile(0.25)\n",
        "        q3 = df[col].quantile(0.75)\n",
        "        iqr = q3-q1\n",
        "\n",
        "        lower_bound = q1 - (iqr*distance)\n",
        "        upper_bound = q3 + (iqr*distance)\n",
        "        \n",
        "    \n",
        "        return df.index[(df[col] < lower_bound) | (df[col] > upper_bound)]\n"
      ],
      "metadata": {
        "id": "rsJttDpmWwgM"
      },
      "execution_count": 196,
      "outputs": []
    },
    {
      "cell_type": "code",
      "source": [
        "get_outlier_index(df,'glucose',1.5)"
      ],
      "metadata": {
        "colab": {
          "base_uri": "https://localhost:8080/"
        },
        "id": "9u9o97HYYHth",
        "outputId": "809929f8-d5e5-4a46-b799-16e63fe02806"
      },
      "execution_count": 197,
      "outputs": [
        {
          "output_type": "execute_result",
          "data": {
            "text/plain": [
              "Int64Index([2, 317, 604], dtype='int64')"
            ]
          },
          "metadata": {},
          "execution_count": 197
        }
      ]
    },
    {
      "cell_type": "code",
      "source": [
        "\n",
        "df_trim,df2 = df.copy()\n",
        "print(df_trim.shape,df.shape)"
      ],
      "metadata": {
        "colab": {
          "base_uri": "https://localhost:8080/"
        },
        "id": "0oRFvQ1uYWEw",
        "outputId": "c561fbe9-62a6-4721-de54-009247b38b6c"
      },
      "execution_count": 202,
      "outputs": [
        {
          "output_type": "stream",
          "name": "stdout",
          "text": [
            "(768, 9) (768, 9)\n"
          ]
        }
      ]
    },
    {
      "cell_type": "code",
      "source": [
        "features = ['Pregnancies', 'Glucose', 'BloodPressure', 'SkinThickness', 'Insulin',\n",
        "       'BMI', 'DiabetesPedigreeFunction', 'Age']"
      ],
      "metadata": {
        "id": "RslDaQEwZWT7"
      },
      "execution_count": 204,
      "outputs": []
    },
    {
      "cell_type": "code",
      "source": [
        "# Function to trim outliers using numpy array\n",
        "def iqr_trimming(df, cols, factor):\n",
        "    \n",
        "    drop_outliers = np.array([])\n",
        "    \n",
        "    for col in cols:\n",
        "        \n",
        "        q1 = df[col].quantile(0.25)\n",
        "        q3 = df[col].quantile(0.75)\n",
        "        \n",
        "        iqr = q3 - q1\n",
        "        \n",
        "        upper_whisker = q3 + (factor*iqr)\n",
        "        lower_whisker = q1 - (factor*iqr)\n",
        "        \n",
        "        s = df[col]\n",
        "        \n",
        "        indexes = s[(s > upper_whisker) | (s< lower_whisker)].index\n",
        "        \n",
        "        drop_outliers = np.append(drop_outliers, indexes)\n",
        "    \n",
        "    return drop_outliers"
      ],
      "metadata": {
        "id": "djKMAdEjY2V7"
      },
      "execution_count": 205,
      "outputs": []
    },
    {
      "cell_type": "code",
      "source": [
        "dropped = np.unique(iqr_trimming(df_trim, features, 1.5))"
      ],
      "metadata": {
        "id": "onNLY8C5ZMFS"
      },
      "execution_count": 206,
      "outputs": []
    },
    {
      "cell_type": "code",
      "source": [
        "len(dropped)"
      ],
      "metadata": {
        "colab": {
          "base_uri": "https://localhost:8080/"
        },
        "id": "Wjek1OoJZmaq",
        "outputId": "631a1c01-aa88-466e-8508-a0a43741316c"
      },
      "execution_count": 207,
      "outputs": [
        {
          "output_type": "execute_result",
          "data": {
            "text/plain": [
              "129"
            ]
          },
          "metadata": {},
          "execution_count": 207
        }
      ]
    },
    {
      "cell_type": "code",
      "source": [
        "df_trim.drop(dropped, inplace=True)"
      ],
      "metadata": {
        "id": "fbnzvIS6Zpn1"
      },
      "execution_count": 208,
      "outputs": []
    },
    {
      "cell_type": "code",
      "source": [
        "print(df_trim.shape,df.shape)"
      ],
      "metadata": {
        "colab": {
          "base_uri": "https://localhost:8080/"
        },
        "id": "56x3MYeGZucg",
        "outputId": "e56c1b4f-925c-49b7-b52f-374626692e49"
      },
      "execution_count": 209,
      "outputs": [
        {
          "output_type": "stream",
          "name": "stdout",
          "text": [
            "(639, 9) (768, 9)\n"
          ]
        }
      ]
    },
    {
      "cell_type": "code",
      "source": [
        "# Function to trim outliers using list\n",
        "\n",
        "def iqr_trimming3(df, cols, factor):\n",
        "     l1 = []\n",
        "     for col in cols:\n",
        "        \n",
        "        q1 = df[col].quantile(0.25)\n",
        "        q3 = df[col].quantile(0.75)\n",
        "        iqr = q3 - q1\n",
        "        \n",
        "        upper_whisker = q3 + (factor*iqr)\n",
        "        lower_whisker = q1 - (factor*iqr)\n",
        "       \n",
        "        l1.extend(df.index[(df[col] > upper_whisker) | (df[col] < lower_whisker)])\n",
        "    \n",
        "     return l1"
      ],
      "metadata": {
        "id": "0ftDPvSfZ6IS"
      },
      "execution_count": 232,
      "outputs": []
    },
    {
      "cell_type": "code",
      "source": [
        "df2 = df.copy()"
      ],
      "metadata": {
        "id": "iImlnKdYaR7Y"
      },
      "execution_count": 225,
      "outputs": []
    },
    {
      "cell_type": "code",
      "source": [
        "dropped = iqr_trimming3(df2, features, 1.5)"
      ],
      "metadata": {
        "id": "yQIp-xMeaNBc"
      },
      "execution_count": null,
      "outputs": []
    },
    {
      "cell_type": "code",
      "source": [
        "len(dropped)"
      ],
      "metadata": {
        "colab": {
          "base_uri": "https://localhost:8080/"
        },
        "id": "ggQz_YhXaX8H",
        "outputId": "69b9d9da-a849-42d0-961a-01ebcb107642"
      },
      "execution_count": 234,
      "outputs": [
        {
          "output_type": "execute_result",
          "data": {
            "text/plain": [
              "146"
            ]
          },
          "metadata": {},
          "execution_count": 234
        }
      ]
    },
    {
      "cell_type": "code",
      "source": [
        "goingtodrop = list(set(dropped))"
      ],
      "metadata": {
        "id": "iJ3VMok1d8FF"
      },
      "execution_count": 244,
      "outputs": []
    },
    {
      "cell_type": "code",
      "source": [
        "len(goingtodrop)"
      ],
      "metadata": {
        "colab": {
          "base_uri": "https://localhost:8080/"
        },
        "id": "idmqDPhwd70n",
        "outputId": "f86d5105-ff55-4e5e-84ac-43b18ad81288"
      },
      "execution_count": 245,
      "outputs": [
        {
          "output_type": "execute_result",
          "data": {
            "text/plain": [
              "129"
            ]
          },
          "metadata": {},
          "execution_count": 245
        }
      ]
    },
    {
      "cell_type": "code",
      "source": [
        "df2.drop(goingtodrop, inplace=True)"
      ],
      "metadata": {
        "id": "a5NIAZhBd7ww"
      },
      "execution_count": 246,
      "outputs": []
    },
    {
      "cell_type": "code",
      "source": [
        "print(df.shape,df2.shape)"
      ],
      "metadata": {
        "colab": {
          "base_uri": "https://localhost:8080/"
        },
        "id": "DVuvfJV_eVJ2",
        "outputId": "c8b50eb2-14f5-4cc4-ce50-92c183141a87"
      },
      "execution_count": 247,
      "outputs": [
        {
          "output_type": "stream",
          "name": "stdout",
          "text": [
            "(768, 9) (639, 9)\n"
          ]
        }
      ]
    }
  ]
}